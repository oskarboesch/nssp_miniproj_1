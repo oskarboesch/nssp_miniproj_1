{
 "cells": [
  {
   "cell_type": "markdown",
   "id": "a09fdc58-9457-4856-895c-b240c7a2bc88",
   "metadata": {},
   "source": [
    "# I. Part 1\n",
    "\n",
    "## 1. Getting a dataset"
   ]
  },
  {
   "cell_type": "code",
   "execution_count": 1,
   "id": "c35e2a8f-589e-43bd-81e0-7af885d2ebe8",
   "metadata": {},
   "outputs": [
    {
     "name": "stdout",
     "output_type": "stream",
     "text": [
      "Requirement already satisfied: antspyx in /opt/conda/lib/python3.11/site-packages (0.5.3)\n",
      "Requirement already satisfied: pandas in /opt/conda/lib/python3.11/site-packages (from antspyx) (2.2.2)\n",
      "Requirement already satisfied: pyyaml in /opt/conda/lib/python3.11/site-packages (from antspyx) (6.0.1)\n",
      "Requirement already satisfied: numpy in /opt/conda/lib/python3.11/site-packages (from antspyx) (1.26.4)\n",
      "Requirement already satisfied: statsmodels in /opt/conda/lib/python3.11/site-packages (from antspyx) (0.14.2)\n",
      "Requirement already satisfied: webcolors in /opt/conda/lib/python3.11/site-packages (from antspyx) (1.13)\n",
      "Requirement already satisfied: matplotlib in /opt/conda/lib/python3.11/site-packages (from antspyx) (3.9.2)\n",
      "Requirement already satisfied: Pillow in /opt/conda/lib/python3.11/site-packages (from antspyx) (10.0.0)\n",
      "Requirement already satisfied: requests in /opt/conda/lib/python3.11/site-packages (from antspyx) (2.31.0)\n",
      "Requirement already satisfied: contourpy>=1.0.1 in /opt/conda/lib/python3.11/site-packages (from matplotlib->antspyx) (1.3.0)\n",
      "Requirement already satisfied: cycler>=0.10 in /opt/conda/lib/python3.11/site-packages (from matplotlib->antspyx) (0.12.1)\n",
      "Requirement already satisfied: fonttools>=4.22.0 in /opt/conda/lib/python3.11/site-packages (from matplotlib->antspyx) (4.53.1)\n",
      "Requirement already satisfied: kiwisolver>=1.3.1 in /opt/conda/lib/python3.11/site-packages (from matplotlib->antspyx) (1.4.7)\n",
      "Requirement already satisfied: packaging>=20.0 in /opt/conda/lib/python3.11/site-packages (from matplotlib->antspyx) (23.2)\n",
      "Requirement already satisfied: pyparsing>=2.3.1 in /opt/conda/lib/python3.11/site-packages (from matplotlib->antspyx) (3.1.4)\n",
      "Requirement already satisfied: python-dateutil>=2.7 in /opt/conda/lib/python3.11/site-packages (from matplotlib->antspyx) (2.8.2)\n",
      "Requirement already satisfied: pytz>=2020.1 in /opt/conda/lib/python3.11/site-packages (from pandas->antspyx) (2023.3)\n",
      "Requirement already satisfied: tzdata>=2022.7 in /opt/conda/lib/python3.11/site-packages (from pandas->antspyx) (2024.1)\n",
      "Requirement already satisfied: charset-normalizer<4,>=2 in /opt/conda/lib/python3.11/site-packages (from requests->antspyx) (3.3.0)\n",
      "Requirement already satisfied: idna<4,>=2.5 in /opt/conda/lib/python3.11/site-packages (from requests->antspyx) (3.4)\n",
      "Requirement already satisfied: urllib3<3,>=1.21.1 in /opt/conda/lib/python3.11/site-packages (from requests->antspyx) (2.0.7)\n",
      "Requirement already satisfied: certifi>=2017.4.17 in /opt/conda/lib/python3.11/site-packages (from requests->antspyx) (2024.8.30)\n",
      "Requirement already satisfied: scipy!=1.9.2,>=1.8 in /opt/conda/lib/python3.11/site-packages (from statsmodels->antspyx) (1.14.1)\n",
      "Requirement already satisfied: patsy>=0.5.6 in /opt/conda/lib/python3.11/site-packages (from statsmodels->antspyx) (0.5.6)\n",
      "Requirement already satisfied: six in /opt/conda/lib/python3.11/site-packages (from patsy>=0.5.6->statsmodels->antspyx) (1.16.0)\n"
     ]
    }
   ],
   "source": [
    "%gui wx\n",
    "import sys\n",
    "import os\n",
    "\n",
    "#####################\n",
    "# Import of utils.py functions\n",
    "#####################\n",
    "# Required to get utils.py and access its functions\n",
    "notebook_dir = os.path.abspath(\"\")\n",
    "parent_dir = os.path.abspath(os.path.join(notebook_dir, '..'))\n",
    "sys.path.append(parent_dir)\n",
    "sys.path.append('.')\n",
    "from utils import loadFSL, FSLeyesServer, mkdir_no_exist, interactive_MCQ\n",
    "\n",
    "####################\n",
    "# DIPY_HOME should be set prior to import of dipy to make sure all downloads point to the right folder\n",
    "####################\n",
    "os.environ[\"DIPY_HOME\"] = \"/home/jovyan/Data\"\n",
    "\n",
    "\n",
    "#############################\n",
    "# Loading fsl and freesurfer within Neurodesk\n",
    "# You can find the list of available other modules by clicking on the \"Softwares\" tab on the left\n",
    "#############################\n",
    "import lmod\n",
    "await lmod.purge(force=True)\n",
    "await lmod.load('fsl/6.0.7.4')\n",
    "await lmod.load('freesurfer/7.4.1')\n",
    "await lmod.list()\n",
    "\n",
    "####################\n",
    "# Setup FSL path\n",
    "####################\n",
    "loadFSL()\n",
    "\n",
    "###################\n",
    "# Load all relevant libraries for the lab\n",
    "##################\n",
    "import fsl.wrappers\n",
    "from fsl.wrappers import fslmaths\n",
    "\n",
    "import mne_nirs\n",
    "import nilearn\n",
    "from nilearn.datasets import fetch_development_fmri\n",
    "\n",
    "import mne\n",
    "import mne_nirs\n",
    "import dipy\n",
    "from dipy.data import fetch_bundles_2_subjects, read_bundles_2_subjects\n",
    "import xml.etree.ElementTree as ET\n",
    "import os.path as op\n",
    "import nibabel as nib\n",
    "import glob\n",
    "\n",
    "!pip install antspyx\n",
    "import ants\n",
    "\n",
    "import openneuro\n",
    "from mne.datasets import sample\n",
    "from mne_bids import BIDSPath, read_raw_bids, print_dir_tree, make_report\n",
    "\n",
    "\n",
    "# Useful imports to define the direct download function below\n",
    "import requests\n",
    "import urllib.request\n",
    "from tqdm import tqdm\n",
    "\n",
    "\n",
    "# FSL function wrappers which we will call from python directly\n",
    "from fsl.wrappers import fast, bet\n",
    "from fsl.wrappers.misc import fslroi\n",
    "from fsl.wrappers import flirt\n",
    "\n",
    "# General purpose imports to handle paths, files etc\n",
    "import glob\n",
    "import pandas as pd\n",
    "import numpy as np\n",
    "import json\n",
    "import subprocess"
   ]
  },
  {
   "cell_type": "code",
   "execution_count": 2,
   "id": "1ce8c6ab-07cf-4427-88d4-c482a61dac0d",
   "metadata": {},
   "outputs": [
    {
     "name": "stderr",
     "output_type": "stream",
     "text": [
      "13:00:59: Debug: Adding duplicate image handler for 'Windows bitmap file'\n",
      "13:00:59: Debug: Adding duplicate animation handler for '1' type\n",
      "13:00:59: Debug: Adding duplicate animation handler for '2' type\n",
      "13:01:00: Debug: Adding duplicate image handler for 'Windows bitmap file'\n",
      "13:01:00: Debug: Adding duplicate animation handler for '1' type\n",
      "13:01:00: Debug: Adding duplicate animation handler for '2' type\n",
      "\n",
      "(ipykernel_launcher.py:956): Gtk-CRITICAL **: 13:01:00.241: gtk_window_resize: assertion 'height > 0' failed\n"
     ]
    }
   ],
   "source": [
    "################\n",
    "# Start FSLeyes (very neat tool to visualize MRI data of all sorts) within Python\n",
    "################\n",
    "fsleyesDisplay = FSLeyesServer()\n",
    "fsleyesDisplay.show()"
   ]
  },
  {
   "cell_type": "code",
   "execution_count": 3,
   "id": "b0584bb4-7242-4ceb-9c77-aef0205fd4ad",
   "metadata": {},
   "outputs": [],
   "source": [
    "class DownloadProgressBar(tqdm):\n",
    "    def update_to(self, b=1, bsize=1, tsize=None):\n",
    "        if tsize is not None:\n",
    "            self.total = tsize\n",
    "        self.update(b * bsize - self.n)\n",
    "\n",
    "def download_url(url, output_path):\n",
    "    with DownloadProgressBar(unit='B', unit_scale=True,\n",
    "                             miniters=1, desc=url.split('/')[-1]) as t:\n",
    "        urllib.request.urlretrieve(url, filename=output_path, reporthook=t.update_to)\n",
    "\n",
    "def direct_file_download_open_neuro(file_list, file_types, dataset_id, dataset_version, save_dirs):\n",
    "    # https://openneuro.org/crn/datasets/ds004226/snapshots/1.0.0/files/sub-001:sub-001_scans.tsv\n",
    "    for i, n in enumerate(file_list):\n",
    "        subject = n.split('_')[0]\n",
    "        download_link = 'https://openneuro.org/crn/datasets/{}/snapshots/{}/files/{}:{}:{}'.format(dataset_id, dataset_version, subject, file_types[i],n)\n",
    "        print('Attempting download from ', download_link)\n",
    "        download_url(download_link, op.join(save_dirs[i], n))\n",
    "        print('Ok')\n",
    "        \n",
    "def get_json_from_file(fname):\n",
    "    f = open(fname)\n",
    "    data = json.load(f)\n",
    "    f.close()\n",
    "    return data"
   ]
  },
  {
   "cell_type": "code",
   "execution_count": 4,
   "id": "b57a8ba2-d222-4986-9330-ea52a0a986a4",
   "metadata": {},
   "outputs": [
    {
     "name": "stdout",
     "output_type": "stream",
     "text": [
      "\n",
      "👋 Hello! This is openneuro-py 2024.2.0. Great to see you! 🤗\n",
      "\n",
      "   👉 Please report problems 🤯 and bugs 🪲 at\n",
      "      https://github.com/hoechenberger/openneuro-py/issues\n",
      "\n",
      "🌍 Preparing to download ds000171 …\n"
     ]
    },
    {
     "name": "stderr",
     "output_type": "stream",
     "text": [
      "📁 Traversing directories for ds000171 : 436 entities [00:48,  8.95 entities/s]\n"
     ]
    },
    {
     "name": "stdout",
     "output_type": "stream",
     "text": [
      "📥 Retrieving up to 15 files (5 concurrent downloads). \n"
     ]
    },
    {
     "name": "stderr",
     "output_type": "stream",
     "text": [
      "sub-control01_T1w.nii.gz:   0%|          | 0.00/8.77M [00:00<?, ?B/s]\n",
      "sub-control01_task-music_run-1_events.tsv: 0.00B [00:00, ?B/s]\u001b[A\n",
      "sub-control01_T1w.nii.gz:   3%|▎         | 287k/8.77M [00:00<00:07, 1.17MB/s]\n",
      "sub-control01_T1w.nii.gz:   7%|▋         | 609k/8.77M [00:00<00:05, 1.53MB/s]0<?, ?B/s]\u001b[A\n",
      "\n",
      "sub-control01_task-music_run-2_events.tsv:   0%|          | 0.00/339 [00:00<?, ?B/s]\u001b[A\u001b[A\n",
      "\n",
      "                                                                                    \u001b[A\u001b[A\n",
      "\n",
      "sub-control01_task-music_run-1_bold.nii.gz:   0%|          | 0.00/33.8M [00:00<?, ?B/s]\u001b[A\u001b[A\n",
      "\n",
      "\n",
      "sub-control01_T1w.nii.gz:  17%|█▋        | 1.46M/8.77M [00:00<00:02, 3.76MB/s]<?, ?B/s]\u001b[A\u001b[A\u001b[A\n",
      "sub-control01_T1w.nii.gz:  34%|███▍      | 3.00M/8.77M [00:00<00:00, 7.46MB/s]0<01:36, 366kB/s]\u001b[A\n",
      "\n",
      "sub-control01_task-music_run-1_bold.nii.gz:   0%|          | 83.5k/33.8M [00:00<01:15, 469kB/s]\u001b[A\u001b[A\n",
      "\n",
      "\n",
      "sub-control01_task-music_run-3_bold.nii.gz:   0%|          | 83.6k/33.9M [00:00<01:15, 471kB/s]\u001b[A\u001b[A\u001b[A\n",
      "sub-control01_T1w.nii.gz:  48%|████▊     | 4.19M/8.77M [00:00<00:00, 8.72MB/s]<01:21, 433kB/s] \u001b[A\n",
      "\n",
      "\n",
      "\n",
      "sub-control01_task-music_run-3_events.tsv:   0%|          | 0.00/339 [00:00<?, ?B/s]\u001b[A\u001b[A\u001b[A\u001b[A\n",
      "\n",
      "\n",
      "\n",
      "                                                                                    \u001b[A\u001b[A\u001b[A\u001b[A\n",
      "\n",
      "\n",
      "sub-control01_task-music_run-3_bold.nii.gz:   0%|          | 169k/33.9M [00:00<00:56, 625kB/s] \u001b[A\u001b[A\u001b[A\n",
      "\n",
      "sub-control01_task-music_run-1_bold.nii.gz:   1%|          | 304k/33.8M [00:00<00:38, 921kB/s] \u001b[A\u001b[A\n",
      "sub-control01_T1w.nii.gz:  68%|██████▊   | 5.96M/8.77M [00:00<00:00, 11.6MB/s]<01:28, 397kB/s]\u001b[A\n",
      "\n",
      "sub-control01_T1w.nii.gz:  87%|████████▋ | 7.60M/8.77M [00:00<00:00, 13.2MB/s]<00:16, 2.11MB/s]\u001b[A\u001b[A\n",
      "\n",
      "\n",
      "                                                                              <00:20, 1.66MB/s]\u001b[A\u001b[A\u001b[A\n",
      "sub-control01_task-music_run-2_bold.nii.gz:   1%|          | 270k/33.9M [00:00<01:18, 446kB/s]\u001b[A\n",
      "\n",
      "sub-control01_task-music_run-1_bold.nii.gz:   5%|▍         | 1.64M/33.8M [00:00<00:07, 4.36MB/s]\u001b[A\u001b[A\n",
      "\n",
      "\n",
      "sub-control01_task-music_run-3_bold.nii.gz:   4%|▎         | 1.26M/33.9M [00:00<00:10, 3.25MB/s]\u001b[A\u001b[A\u001b[A\n",
      "\n",
      "sub-control01_task-music_run-1_bold.nii.gz:   9%|▉         | 3.02M/33.8M [00:00<00:04, 7.42MB/s]\u001b[A\u001b[A\n",
      "\n",
      "\n",
      "sub-control01_task-music_run-3_bold.nii.gz:   8%|▊         | 2.64M/33.9M [00:00<00:04, 6.59MB/s]\u001b[A\u001b[A\u001b[A\n",
      "sub-control01_task-music_run-2_bold.nii.gz:   1%|          | 358k/33.9M [00:00<01:15, 464kB/s]\u001b[A\n",
      "\n",
      "sub-control01_task-music_run-1_bold.nii.gz:  18%|█▊        | 6.06M/33.8M [00:00<00:01, 14.9MB/s]\u001b[A\u001b[A\n",
      "\n",
      "\n",
      "sub-control01_task-nonmusic_run-4_bold.nii.gz:   0%|          | 0.00/33.9M [00:00<?, ?B/s]8MB/s]\u001b[A\u001b[A\u001b[A\n",
      "sub-control01_task-music_run-2_bold.nii.gz:   1%|▏         | 446k/33.9M [00:00<01:01, 566kB/s]\u001b[A\n",
      "\n",
      "\n",
      "\n",
      "sub-control01_task-nonmusic_run-4_events.tsv:   0%|          | 0.00/351 [00:00<?, ?B/s]\u001b[A\u001b[A\u001b[A\u001b[A\n",
      "\n",
      "\n",
      "\n",
      "                                                                                       \u001b[A\u001b[A\u001b[A\u001b[A\n",
      "\n",
      "sub-control01_task-music_run-1_bold.nii.gz:  25%|██▌       | 8.55M/33.8M [00:00<00:01, 17.9MB/s]\u001b[A\u001b[A\n",
      "\n",
      "\n",
      "sub-control01_task-music_run-3_bold.nii.gz:  22%|██▏       | 7.32M/33.9M [00:00<00:01, 15.4MB/s]\u001b[A\u001b[A\u001b[A\n",
      "sub-control01_task-music_run-2_bold.nii.gz:   1%|▏         | 515k/33.9M [00:01<01:02, 561kB/s]\u001b[A\n",
      "\n",
      "\n",
      "sub-control01_task-nonmusic_run-4_bold.nii.gz:   0%|          | 48.5k/33.9M [00:00<02:08, 277kB/s]A\u001b[A\u001b[A\n",
      "\n",
      "sub-control01_task-music_run-1_bold.nii.gz:  33%|███▎      | 11.2M/33.8M [00:01<00:01, 19.0MB/s]\u001b[A\u001b[A\n",
      "\n",
      "sub-control01_task-music_run-1_bold.nii.gz:  41%|████      | 13.9M/33.8M [00:01<00:00, 21.8MB/s]\u001b[A\u001b[A\n",
      "sub-control01_task-music_run-2_bold.nii.gz:   2%|▏         | 583k/33.9M [00:01<01:05, 534kB/s]\u001b[A\n",
      "\n",
      "\n",
      "sub-control01_task-nonmusic_run-4_bold.nii.gz:   0%|          | 99.5k/33.9M [00:00<02:05, 282kB/s]A\u001b[A\u001b[A\n",
      "\n",
      "\n",
      "\n",
      "sub-control01_task-nonmusic_run-5_events.tsv:   0%|          | 0.00/351 [00:00<?, ?B/s]\u001b[A\u001b[A\u001b[A\u001b[A\n",
      "\n",
      "\n",
      "\n",
      "                                                                                       \u001b[A\u001b[A\u001b[A\u001b[A\n",
      "\n",
      "sub-control01_task-music_run-1_bold.nii.gz:  48%|████▊     | 16.1M/33.8M [00:01<00:00, 20.9MB/s]\u001b[A\u001b[A\n",
      "\n",
      "\n",
      "sub-control01_task-music_run-3_bold.nii.gz:  43%|████▎     | 14.4M/33.9M [00:01<00:01, 20.0MB/s]\u001b[A\u001b[A\u001b[A\n",
      "sub-control01_task-music_run-2_bold.nii.gz:   2%|▏         | 702k/33.9M [00:01<00:53, 653kB/s]\u001b[A\n",
      "\n",
      "sub-control01_task-music_run-1_bold.nii.gz:  57%|█████▋    | 19.2M/33.8M [00:01<00:00, 24.0MB/s]\u001b[A\u001b[A\n",
      "\n",
      "\n",
      "sub-control01_task-nonmusic_run-4_bold.nii.gz:   0%|          | 164k/33.9M [00:00<01:51, 318kB/s] A\u001b[A\u001b[A\n",
      "sub-control01_task-music_run-2_bold.nii.gz:   2%|▏         | 787k/33.9M [00:01<00:54, 634kB/s]\u001b[A\n",
      "\n",
      "sub-control01_task-music_run-1_bold.nii.gz:  65%|██████▍   | 21.8M/33.8M [00:01<00:00, 25.1MB/s]\u001b[A\u001b[A\n",
      "\n",
      "\n",
      "sub-control01_task-music_run-3_bold.nii.gz:  56%|█████▌    | 18.9M/33.9M [00:01<00:00, 21.1MB/s]\u001b[A\u001b[A\u001b[A\n",
      "\n",
      "sub-control01_task-music_run-1_bold.nii.gz:  74%|███████▍  | 25.0M/33.8M [00:01<00:00, 27.5MB/s]\u001b[A\u001b[A\n",
      "sub-control01_task-music_run-2_bold.nii.gz:   3%|▎         | 906k/33.9M [00:01<00:47, 726kB/s]\u001b[A\n",
      "\n",
      "\n",
      "sub-control01_task-nonmusic_run-4_bold.nii.gz:   1%|          | 217k/33.9M [00:00<01:54, 309kB/s][A\u001b[A\u001b[A\n",
      "\n",
      "sub-control01_task-music_run-1_bold.nii.gz:  82%|████████▏ | 27.7M/33.8M [00:01<00:00, 27.9MB/s]\u001b[A\u001b[A\n",
      "\n",
      "\n",
      "sub-control01_task-music_run-3_bold.nii.gz:  71%|███████   | 24.0M/33.9M [00:01<00:00, 22.8MB/s]\u001b[A\u001b[A\u001b[A\n",
      "sub-control01_task-music_run-2_bold.nii.gz:   3%|▎         | 0.98M/33.9M [00:01<00:48, 712kB/s]\u001b[A\n",
      "\n",
      "\n",
      "\n",
      "sub-control01_task-nonmusic_run-4_bold.nii.gz:   1%|          | 285k/33.9M [00:00<01:45, 335kB/s][A\u001b[A\n",
      "\n",
      "sub-control01_task-music_run-1_bold.nii.gz:  90%|████████▉ | 30.5M/33.8M [00:01<00:00, 27.3MB/s]\u001b[A\u001b[A\n",
      "\n",
      "\n",
      "sub-control01_task-music_run-3_bold.nii.gz:  79%|███████▉  | 26.7M/33.9M [00:01<00:00, 24.6MB/s]\u001b[A\u001b[A\u001b[A\n",
      "sub-control01_task-music_run-2_bold.nii.gz:   3%|▎         | 1.12M/33.9M [00:01<00:39, 871kB/s]\u001b[A\n",
      "\n",
      "sub-control01_task-music_run-1_bold.nii.gz:  99%|█████████▉| 33.7M/33.8M [00:01<00:00, 29.1MB/s]\u001b[A\u001b[A\n",
      "\n",
      "                                                                                                \u001b[A\u001b[A\n",
      "\n",
      "\n",
      "sub-control01_task-music_run-3_bold.nii.gz:  87%|████████▋ | 29.6M/33.9M [00:01<00:00, 25.5MB/s]\u001b[A\u001b[A\u001b[A\n",
      "\n",
      "\n",
      "\n",
      "sub-control01_task-nonmusic_run-5_bold.nii.gz:   0%|          | 67.5k/33.9M [00:00<01:32, 382kB/s]\u001b[A\u001b[A\u001b[A\u001b[A\n",
      "sub-control01_task-nonmusic_run-4_bold.nii.gz:   1%|          | 370k/33.9M [00:01<01:32, 380kB/s]A\n",
      "\n",
      "\n",
      "sub-control01_task-music_run-3_bold.nii.gz:  95%|█████████▌| 32.2M/33.9M [00:01<00:00, 25.9MB/s]\u001b[A\u001b[A\u001b[A\n",
      "\n",
      "\n",
      "\n",
      "sub-control01_task-nonmusic_run-5_bold.nii.gz:   1%|          | 203k/33.9M [00:00<00:42, 828kB/s] \u001b[A\u001b[A\u001b[A\u001b[A\n",
      "\n",
      "\n",
      "                                                                                                \u001b[A\u001b[A\u001b[A\n",
      "sub-control01_task-music_run-2_bold.nii.gz:   4%|▍         | 1.33M/33.9M [00:02<00:39, 868kB/s]\u001b[A\n",
      "\n",
      "\n",
      "\n",
      "sub-control01_task-nonmusic_run-4_bold.nii.gz:   1%|▏         | 455k/33.9M [00:01<01:26, 407kB/s]]\u001b[A\u001b[A\u001b[A\u001b[A\n",
      "sub-control01_task-music_run-2_bold.nii.gz:   4%|▍         | 1.45M/33.9M [00:02<00:35, 953kB/s]\u001b[A\n",
      "\n",
      "\n",
      "\n",
      "sub-control01_task-nonmusic_run-5_bold.nii.gz:   3%|▎         | 1.13M/33.9M [00:00<00:10, 3.38MB/s]\u001b[A\u001b[A\u001b[A\u001b[A\n",
      "sub-control01_task-music_run-2_bold.nii.gz:   5%|▍         | 1.60M/33.9M [00:02<00:30, 1.11MB/s]\u001b[A\n",
      "\n",
      "\n",
      "\n",
      "sub-control01_task-nonmusic_run-4_bold.nii.gz:   2%|▏         | 540k/33.9M [00:01<01:21, 430kB/s]s]\u001b[A\u001b[A\u001b[A\u001b[A\n",
      "sub-control01_task-music_run-2_bold.nii.gz:   5%|▌         | 1.73M/33.9M [00:02<00:29, 1.15MB/s]\u001b[A\n",
      "\n",
      "\n",
      "\n",
      "sub-control01_task-nonmusic_run-4_bold.nii.gz:   2%|▏         | 642k/33.9M [00:01<01:13, 473kB/s]s]\u001b[A\u001b[A\u001b[A\u001b[A\n",
      "sub-control01_task-music_run-2_bold.nii.gz:   6%|▌         | 1.88M/33.9M [00:02<00:29, 1.13MB/s]\u001b[A\n",
      "\n",
      "\n",
      "\n",
      "sub-control01_task-nonmusic_run-5_bold.nii.gz:  21%|██        | 7.03M/33.9M [00:00<00:01, 15.2MB/s]\u001b[A\u001b[A\u001b[A\u001b[A\n",
      "sub-control01_task-music_run-2_bold.nii.gz:   6%|▌         | 2.01M/33.9M [00:02<00:27, 1.19MB/s]\u001b[A\n",
      "\n",
      "\n",
      "\n",
      "sub-control01_task-nonmusic_run-4_bold.nii.gz:   2%|▏         | 744k/33.9M [00:01<01:05, 530kB/s]s]\u001b[A\u001b[A\u001b[A\u001b[A\n",
      "sub-control01_task-music_run-2_bold.nii.gz:   7%|▋         | 2.21M/33.9M [00:02<00:23, 1.43MB/s]\u001b[A\n",
      "\n",
      "\n",
      "\n",
      "sub-control01_task-nonmusic_run-4_bold.nii.gz:   2%|▏         | 812k/33.9M [00:01<01:04, 537kB/s]s]\u001b[A\u001b[A\u001b[A\u001b[A\n",
      "sub-control01_task-music_run-2_bold.nii.gz:   7%|▋         | 2.40M/33.9M [00:02<00:21, 1.51MB/s]\u001b[A\n",
      "\n",
      "\n",
      "\n",
      "sub-control01_task-nonmusic_run-4_bold.nii.gz:   3%|▎         | 931k/33.9M [00:02<00:56, 616kB/s]s]\u001b[A\u001b[A\u001b[A\u001b[A\n",
      "\n",
      "\n",
      "\n",
      "sub-control01_task-nonmusic_run-5_bold.nii.gz:  52%|█████▏    | 17.8M/33.9M [00:01<00:00, 25.0MB/s]\u001b[A\u001b[A\u001b[A\u001b[A\n",
      "sub-control01_task-music_run-2_bold.nii.gz:   8%|▊         | 2.59M/33.9M [00:03<00:22, 1.46MB/s]\u001b[A\n",
      "\n",
      "\n",
      "\n",
      "sub-control01_task-nonmusic_run-4_bold.nii.gz:   3%|▎         | 0.99M/33.9M [00:02<00:54, 635kB/s]]\u001b[A\u001b[A\u001b[A\u001b[A\n",
      "sub-control01_task-music_run-2_bold.nii.gz:   8%|▊         | 2.81M/33.9M [00:03<00:19, 1.66MB/s]\u001b[A\n",
      "\n",
      "\n",
      "\n",
      "sub-control01_task-nonmusic_run-4_bold.nii.gz:   3%|▎         | 1.13M/33.9M [00:02<00:47, 725kB/s]]\u001b[A\u001b[A\u001b[A\u001b[A\n",
      "sub-control01_task-music_run-2_bold.nii.gz:   9%|▉         | 3.04M/33.9M [00:03<00:17, 1.81MB/s]\u001b[A\n",
      "\n",
      "\n",
      "\n",
      "sub-control01_task-nonmusic_run-4_bold.nii.gz:   4%|▎         | 1.21M/33.9M [00:02<00:47, 717kB/s]]\u001b[A\u001b[A\u001b[A\u001b[A\n",
      "\n",
      "\n",
      "\n",
      "sub-control01_task-nonmusic_run-5_bold.nii.gz:  88%|████████▊ | 29.7M/33.9M [00:01<00:00, 29.3MB/s]\u001b[A\u001b[A\u001b[A\u001b[A\n",
      "sub-control01_task-nonmusic_run-4_bold.nii.gz:   4%|▍         | 1.36M/33.9M [00:02<00:37, 913kB/s]A\n",
      "\n",
      "\n",
      "\n",
      "sub-control01_task-nonmusic_run-5_bold.nii.gz:  96%|█████████▋| 32.7M/33.9M [00:01<00:00, 29.7MB/s]\u001b[A\u001b[A\u001b[A\u001b[A\n",
      "sub-control01_task-music_run-2_bold.nii.gz:  10%|█         | 3.53M/33.9M [00:03<00:16, 1.94MB/s]\u001b[A\n",
      "\n",
      "\n",
      "\n",
      "                                                                                                   \u001b[A\u001b[A\u001b[A\u001b[A\n",
      "sub-control01_task-nonmusic_run-4_bold.nii.gz:   4%|▍         | 1.47M/33.9M [00:02<00:40, 835kB/s]A\n",
      "sub-control01_task-nonmusic_run-4_bold.nii.gz:   5%|▍         | 1.62M/33.9M [00:02<00:33, 1.01MB/s]\n",
      "sub-control01_task-nonmusic_run-4_bold.nii.gz:   5%|▌         | 1.77M/33.9M [00:03<00:34, 962kB/s] \n",
      "sub-control01_task-nonmusic_run-4_bold.nii.gz:   6%|▌         | 1.94M/33.9M [00:03<00:29, 1.14MB/s]\n",
      "sub-control01_task-music_run-2_bold.nii.gz:  15%|█▍        | 4.94M/33.9M [00:04<00:11, 2.57MB/s]\u001b[A\n",
      "sub-control01_task-nonmusic_run-4_bold.nii.gz:   6%|▋         | 2.12M/33.9M [00:03<00:29, 1.12MB/s]\n",
      "sub-control01_task-nonmusic_run-4_bold.nii.gz:   7%|▋         | 2.30M/33.9M [00:03<00:25, 1.30MB/s]\n",
      "sub-control01_task-nonmusic_run-4_bold.nii.gz:   7%|▋         | 2.52M/33.9M [00:03<00:23, 1.39MB/s]\n",
      "sub-control01_task-nonmusic_run-4_bold.nii.gz:   8%|▊         | 2.67M/33.9M [00:03<00:24, 1.35MB/s]\n",
      "sub-control01_task-nonmusic_run-4_bold.nii.gz:   9%|▊         | 2.90M/33.9M [00:03<00:20, 1.62MB/s]\n",
      "sub-control01_task-nonmusic_run-4_bold.nii.gz:   9%|▉         | 3.15M/33.9M [00:03<00:17, 1.87MB/s]\n",
      "sub-control01_task-music_run-2_bold.nii.gz:  23%|██▎       | 7.72M/33.9M [00:04<00:06, 4.04MB/s]\u001b[A\n",
      "sub-control01_task-nonmusic_run-4_bold.nii.gz:  11%|█         | 3.62M/33.9M [00:04<00:16, 1.91MB/s]\n",
      "sub-control01_task-music_run-2_bold.nii.gz:  26%|██▌       | 8.80M/33.9M [00:05<00:06, 4.30MB/s]\u001b[A\n",
      "sub-control01_task-nonmusic_run-4_bold.nii.gz:  12%|█▏        | 3.93M/33.9M [00:04<00:15, 2.06MB/s]\n",
      "sub-control01_task-nonmusic_run-4_bold.nii.gz:  12%|█▏        | 4.16M/33.9M [00:04<00:15, 2.02MB/s]\n",
      "sub-control01_task-nonmusic_run-4_bold.nii.gz:  13%|█▎        | 4.48M/33.9M [00:04<00:13, 2.34MB/s]\n",
      "sub-control01_task-nonmusic_run-4_bold.nii.gz:  14%|█▍        | 4.83M/33.9M [00:04<00:11, 2.69MB/s]\n",
      "sub-control01_task-nonmusic_run-4_bold.nii.gz:  15%|█▌        | 5.14M/33.9M [00:04<00:11, 2.62MB/s]\n",
      "sub-control01_task-nonmusic_run-4_bold.nii.gz:  16%|█▌        | 5.42M/33.9M [00:04<00:11, 2.54MB/s]\n",
      "sub-control01_task-nonmusic_run-4_bold.nii.gz:  17%|█▋        | 5.79M/33.9M [00:04<00:10, 2.87MB/s]\n",
      "sub-control01_task-nonmusic_run-4_bold.nii.gz:  20%|█▉        | 6.65M/33.9M [00:05<00:07, 3.66MB/s]\n",
      "sub-control01_task-nonmusic_run-4_bold.nii.gz:  21%|██        | 7.04M/33.9M [00:05<00:08, 3.51MB/s]\n",
      "sub-control01_task-nonmusic_run-4_bold.nii.gz:  22%|██▏       | 7.42M/33.9M [00:05<00:08, 3.41MB/s]\n",
      "sub-control01_task-nonmusic_run-4_bold.nii.gz:  23%|██▎       | 7.90M/33.9M [00:05<00:07, 3.85MB/s]\n",
      "sub-control01_task-nonmusic_run-4_bold.nii.gz:  26%|██▋       | 8.95M/33.9M [00:05<00:05, 4.64MB/s]\n",
      "sub-control01_task-nonmusic_run-4_bold.nii.gz:  28%|██▊       | 9.54M/33.9M [00:05<00:05, 5.10MB/s]\n",
      "sub-control01_task-nonmusic_run-4_bold.nii.gz:  30%|██▉       | 10.1M/33.9M [00:05<00:05, 4.95MB/s]\n",
      "sub-control01_task-music_run-2_bold.nii.gz:  61%|██████    | 20.6M/33.9M [00:06<00:01, 7.07MB/s]\u001b[A\n",
      "sub-control01_task-nonmusic_run-4_bold.nii.gz:  33%|███▎      | 11.2M/33.9M [00:06<00:04, 5.19MB/s]\n",
      "sub-control01_task-nonmusic_run-4_bold.nii.gz:  35%|███▌      | 11.9M/33.9M [00:06<00:03, 5.84MB/s]\n",
      "sub-control01_task-nonmusic_run-4_bold.nii.gz:  37%|███▋      | 12.7M/33.9M [00:06<00:03, 6.41MB/s]\n",
      "sub-control01_task-nonmusic_run-4_bold.nii.gz:  40%|███▉      | 13.4M/33.9M [00:06<00:03, 6.88MB/s]\n",
      "sub-control01_task-music_run-2_bold.nii.gz:  72%|███████▏  | 24.4M/33.9M [00:07<00:01, 7.45MB/s]\u001b[A\n",
      "sub-control01_task-nonmusic_run-4_bold.nii.gz:  42%|████▏     | 14.3M/33.9M [00:06<00:02, 7.27MB/s]\n",
      "sub-control01_task-nonmusic_run-4_bold.nii.gz:  45%|████▍     | 15.1M/33.9M [00:06<00:02, 6.97MB/s]\n",
      "sub-control01_task-nonmusic_run-4_bold.nii.gz:  50%|████▉     | 16.9M/33.9M [00:06<00:02, 8.20MB/s]\n",
      "sub-control01_task-nonmusic_run-4_bold.nii.gz:  53%|█████▎    | 17.9M/33.9M [00:07<00:01, 8.88MB/s]\n",
      "sub-control01_task-nonmusic_run-4_bold.nii.gz:  56%|█████▋    | 19.0M/33.9M [00:07<00:01, 9.73MB/s]\n",
      "sub-control01_task-nonmusic_run-4_bold.nii.gz:  60%|█████▉    | 20.2M/33.9M [00:07<00:01, 10.5MB/s]\n",
      "sub-control01_task-nonmusic_run-4_bold.nii.gz:  63%|██████▎   | 21.4M/33.9M [00:07<00:01, 10.8MB/s]\n",
      "sub-control01_task-music_run-2_bold.nii.gz:  90%|█████████ | 30.6M/33.9M [00:08<00:00, 7.88MB/s]\u001b[A\n",
      "sub-control01_task-nonmusic_run-4_bold.nii.gz:  70%|██████▉   | 23.7M/33.9M [00:07<00:00, 10.9MB/s]\n",
      "sub-control01_task-nonmusic_run-4_bold.nii.gz:  74%|███████▍  | 25.0M/33.9M [00:07<00:00, 11.7MB/s]\n",
      "sub-control01_task-nonmusic_run-4_bold.nii.gz:  78%|███████▊  | 26.4M/33.9M [00:07<00:00, 12.6MB/s]\n",
      "sub-control01_task-nonmusic_run-4_bold.nii.gz:  98%|█████████▊| 33.0M/33.9M [00:08<00:00, 16.5MB/s]"
     ]
    },
    {
     "name": "stdout",
     "output_type": "stream",
     "text": [
      "✅ Finished downloading ds000171.\n",
      " \n",
      "🧠 Please enjoy your brains.\n",
      " \n"
     ]
    },
    {
     "name": "stderr",
     "output_type": "stream",
     "text": [
      "                                                                                                   \r"
     ]
    }
   ],
   "source": [
    "# Variables\n",
    "dataset_id = 'ds000171'\n",
    "bids_root = '/home/jovyan/Data/dataset/ds000171'\n",
    "subject = 'control01'  \n",
    "subject_dir = 'sub-{}'.format(subject)\n",
    "\n",
    "# Check if the dataset directory exists\n",
    "if op.exists(bids_root):\n",
    "    print(f\"Removing existing dataset at {bids_root}\")\n",
    "    subprocess.run([\"rm\", \"-rf\", bids_root], check=True)\n",
    "\n",
    "# Download the dataset again\n",
    "subprocess.run([\"openneuro-py\", \"download\", \"--dataset\", dataset_id,\n",
    "                \"--target-dir\", bids_root,\n",
    "                \"--include\", op.join(subject_dir, '*'),\n",
    "               ], check=True)\n",
    "\n",
    "###################\n",
    "# Create folders relevant for preprocessing.\n",
    "###################\n",
    "mkdir_no_exist(op.join(bids_root, 'derivatives'))\n",
    "preproc_root = op.join(bids_root, 'derivatives','preprocessed_data')\n",
    "mkdir_no_exist(preproc_root)\n",
    "mkdir_no_exist(op.join(preproc_root, 'sub-{}'.format(subject)))\n",
    "mkdir_no_exist(op.join(preproc_root, 'sub-{}'.format(subject), 'anat'))\n",
    "mkdir_no_exist(op.join(preproc_root, 'sub-{}'.format(subject), 'func'))\n",
    "mkdir_no_exist(op.join(preproc_root, 'sub-{}'.format(subject), 'fmap'))"
   ]
  },
  {
   "cell_type": "code",
   "execution_count": 5,
   "id": "9daaec45-550f-4880-8d46-7fad92f13134",
   "metadata": {},
   "outputs": [
    {
     "name": "stdout",
     "output_type": "stream",
     "text": [
      "|ds000171/\n",
      "|--- CHANGES\n",
      "|--- README\n",
      "|--- dataset_description.json\n",
      "|--- participants.tsv\n",
      "|--- derivatives/\n",
      "|------ preprocessed_data/\n",
      "|--------- sub-control01/\n",
      "|------------ anat/\n",
      "|------------ fmap/\n",
      "|------------ func/\n",
      "|--- sub-control01/\n",
      "|------ anat/\n",
      "|--------- sub-control01_T1w.nii.gz\n",
      "|------ func/\n",
      "|--------- sub-control01_task-music_run-1_bold.nii.gz\n",
      "|--------- sub-control01_task-music_run-1_events.tsv\n",
      "|--------- sub-control01_task-music_run-2_bold.nii.gz\n",
      "|--------- sub-control01_task-music_run-2_events.tsv\n",
      "|--------- sub-control01_task-music_run-3_bold.nii.gz\n",
      "|--------- sub-control01_task-music_run-3_events.tsv\n",
      "|--------- sub-control01_task-nonmusic_run-4_bold.nii.gz\n",
      "|--------- sub-control01_task-nonmusic_run-4_events.tsv\n",
      "|--------- sub-control01_task-nonmusic_run-5_bold.nii.gz\n",
      "|--------- sub-control01_task-nonmusic_run-5_events.tsv\n"
     ]
    }
   ],
   "source": [
    "print_dir_tree(bids_root, max_depth=4)"
   ]
  },
  {
   "cell_type": "markdown",
   "id": "7d9d1ed0-8173-4cab-9038-ca67d82d076b",
   "metadata": {},
   "source": [
    "# Lab 2"
   ]
  },
  {
   "cell_type": "markdown",
   "id": "91644497-2569-4b5b-bb50-a5b4b91ea2f9",
   "metadata": {},
   "source": [
    "## 2. Anatomical preprocessing"
   ]
  },
  {
   "cell_type": "code",
   "execution_count": 6,
   "id": "28ef09e3-e626-401a-a9c7-7fb86317a0b8",
   "metadata": {},
   "outputs": [
    {
     "name": "stderr",
     "output_type": "stream",
     "text": [
      "\n",
      "(ipykernel_launcher.py:956): Gdk-WARNING **: 13:02:32.935: gdkdrawable-x11.c:952 drawable is not a pixmap or window\n"
     ]
    }
   ],
   "source": [
    "fsleyesDisplay.resetOverlays()\n",
    "fsleyesDisplay.load(op.join(bids_root, 'sub-control01', 'anat', 'sub-control01_T1w.nii.gz'))"
   ]
  },
  {
   "cell_type": "code",
   "execution_count": 7,
   "id": "f146bba0-9025-4cff-a531-40141df6b8f1",
   "metadata": {},
   "outputs": [
    {
     "name": "stdout",
     "output_type": "stream",
     "text": [
      "Done with BET.\n"
     ]
    }
   ],
   "source": [
    "def get_skull_stripped_anatomical(bids_root, preproc_root, subject_id, robust=False):\n",
    "    \"\"\"\n",
    "    Function to perform skull-stripping (removing the skull around the brain).\n",
    "    This is a simple wrapper around the brain extraction tool (BET) in FSL's suite\n",
    "    It assumes data to be in the BIDS format (which we will cover in the following weeks).\n",
    "    The method also saves the brain mask which was used to extract the brain.\n",
    "\n",
    "    The brain extraction is conducted only on the T1w of the participant.\n",
    "\n",
    "    Parameters\n",
    "    ----------\n",
    "    bids_root: string\n",
    "        The root of the BIDS directory\n",
    "    preproc_root: string\n",
    "        The root of the preprocessed data, where the result of the brain extraction will be saved.\n",
    "    subject_id: string\n",
    "        Subject ID, the subject on which brain extraction should be conducted.\n",
    "    robust: bool\n",
    "        Whether to conduct robust center estimation with BET or not. Default is False.\n",
    "    \"\"\"\n",
    "    # We perform here skull stripping (you'll learn more about it next week!).\n",
    "    # For now all you need to do is that we remove the bones and flesh from the MRI to get the brain!\n",
    "    subject = 'sub-{}'.format(subject_id)\n",
    "    anatomical_path = op.join(bids_root, subject, 'anat', 'sub-{}_T1w.nii.gz'.format(subject_id))\n",
    "    betted_brain_path = op.join(preproc_root, subject, 'anat', 'sub-{}_T1w'.format(subject_id))\n",
    "    os.system('bet {} {} -m {}'.format(anatomical_path, betted_brain_path, '-R' if robust else ''))\n",
    "    print(\"Done with BET.\")\n",
    "\n",
    "resulting_mask_path = op.join(preproc_root, 'sub-control01', 'anat', 'sub-control01_T1w_mask')\n",
    "get_skull_stripped_anatomical(bids_root, preproc_root, \"control01\")"
   ]
  },
  {
   "cell_type": "code",
   "execution_count": 8,
   "id": "1dc158db-2cf0-4524-aee3-cf6592d65605",
   "metadata": {},
   "outputs": [],
   "source": [
    "fsleyesDisplay.load(resulting_mask_path)"
   ]
  },
  {
   "cell_type": "code",
   "execution_count": 9,
   "id": "b178d98a-3b39-4cad-9a2a-ea0eaa855d34",
   "metadata": {},
   "outputs": [
    {
     "name": "stdout",
     "output_type": "stream",
     "text": [
      "Done with BET.\n"
     ]
    }
   ],
   "source": [
    "get_skull_stripped_anatomical(bids_root, preproc_root, \"control01\", robust=True)"
   ]
  },
  {
   "cell_type": "code",
   "execution_count": 10,
   "id": "72ec500e-30ab-4c9b-83bd-f0b3a9858900",
   "metadata": {},
   "outputs": [],
   "source": [
    "fsleyesDisplay.resetOverlays()\n",
    "fsleyesDisplay.load(op.join(bids_root, 'sub-control01', 'anat', 'sub-control01_T1w.nii.gz'))\n",
    "fsleyesDisplay.load(resulting_mask_path)"
   ]
  },
  {
   "cell_type": "code",
   "execution_count": 11,
   "id": "6dce4be8-bdbb-4f47-9a2e-e2e53150593f",
   "metadata": {},
   "outputs": [],
   "source": [
    "##################################\n",
    "# Fill me with the code to use your mask\n",
    "# To help you, we provide you with the skeleton of two potential approaches.\n",
    "# You can fill either of them. Do not forget to test them by visualizing the result!\n",
    "# For fslmaths, you can either read the documentation, or execute it without argument by running os.system('fslmaths')\n",
    "##################################\n",
    "\n",
    "# Option 1: Pythonic approach.\n",
    "def apply_python_mask_approach(img_path, mask_path, masked_img_path):\n",
    "    \"\"\"\n",
    "    The first approach, Pythonic way. The goal is, given a mask, to apply it to a T1 where the brain is to be extracted.\n",
    "    \n",
    "    YOU SHOULD COMPLETE THE METHOD AS IT DOES NOT WORK RIGHT NOW!\n",
    "\n",
    "    Parameters\n",
    "    ----------\n",
    "    img_path: str\n",
    "        Path to the image on which we would like to apply the mask (in your case, the T1 with the skull still on). Should be a .nii.gz file\n",
    "    mask_path: str\n",
    "        Path to the mask you would like to apply to your image. Should be a .nii.gz file, containing only binary values (0 or 1)\n",
    "    masked_img_path: str\n",
    "        Path to which the resulting image will be saved.\n",
    "    \"\"\"\n",
    "    import nibabel as nib\n",
    "\n",
    "    # Load both the T1 and the mask from disk\n",
    "    img = nib.load(img_path)\n",
    "    mask = nib.load(mask_path)\n",
    "    \n",
    "    # Load the data from both above images as numpy arrays\n",
    "    img_data = img.get_fdata()\n",
    "    mask_data = mask.get_fdata()\n",
    "\n",
    "    #######################\n",
    "    # Solution 1\n",
    "    # Create an empty image and select all which falls in the mask (perhaps the most natural way to think about the mask)\n",
    "    #######################\n",
    "    # In all positions within the mask, get the image content\n",
    "    saved_img_data = np.zeros(img_data.shape)\n",
    "    saved_img_data[mask_data > 0] = img_data[mask_data > 0]\n",
    "\n",
    "    # Save the image to disk, by creating a new Nifti image and then writing it out\n",
    "    img_out = nib.Nifti1Image(saved_img_data,img.affine, img.header)\n",
    "    nib.save(img_out, masked_img_path)\n",
    "\n",
    "    #######################\n",
    "    # Solution 2\n",
    "    # Another approach is to remove from img_data all that is outside the mask.\n",
    "    #######################\n",
    "    \n",
    "    # In all positions OUTSIDE the mask (where it is equal to 0), throw away the image\n",
    "    img_data[mask_data == 0] = 0\n",
    "    \n",
    "    # Save the image to disk, by creating a new Nifti image and then writing it out\n",
    "    img_out = nib.Nifti1Image(img_data,img.affine, img.header)\n",
    "    nib.save(img_out, masked_img_path)\n",
    "    \n",
    "def apply_fsl_math_approach(img_path, mask_path, masked_img_path):\n",
    "    ###########################\n",
    "    # Solution\n",
    "    # By reading fslmaths documentation, one can see that the -mas option is exactly what we desire.\n",
    "    ###########################\n",
    "    os.system('fslmaths {} -mas {} {}'.format(img_path, mask_path, masked_img_path))\n",
    "    \n",
    "\n",
    "anatomical_path = op.join(bids_root, 'sub-control01', 'anat', 'sub-control01_T1w.nii.gz') # The original brain\n",
    "betted_brain_path = op.join(preproc_root, 'sub-control01', 'anat', 'sub-control01_T1w.nii.gz') # The brain without skull is in the derivatives folder\n",
    "resulting_mask_path = op.join(preproc_root, 'sub-control01', 'anat', 'sub-control01_T1w_mask.nii.gz') # The mask to use\n",
    "\n",
    "########################\n",
    "# CHOOSE ONE OF THE TWO TO IMPLEMENT IT AND LAUNCH IT\n",
    "########################\n",
    "apply_fsl_math_approach(anatomical_path, resulting_mask_path, betted_brain_path)\n",
    "apply_python_mask_approach(anatomical_path, resulting_mask_path, betted_brain_path)"
   ]
  },
  {
   "cell_type": "code",
   "execution_count": 12,
   "id": "618c0c1f-1f69-41fe-aa8b-3f479cf49c6e",
   "metadata": {},
   "outputs": [],
   "source": [
    "fsleyesDisplay.resetOverlays()\n",
    "fsleyesDisplay.load(betted_brain_path)"
   ]
  },
  {
   "cell_type": "code",
   "execution_count": 13,
   "id": "2d1b2557-7e75-4dff-9f5d-7e033dc75f31",
   "metadata": {},
   "outputs": [
    {
     "data": {
      "text/plain": [
       "{}"
      ]
     },
     "execution_count": 13,
     "metadata": {},
     "output_type": "execute_result"
    }
   ],
   "source": [
    "anatomical_path = op.join(bids_root, 'sub-control01', 'anat', 'sub-control01_T1w.nii.gz')\n",
    "bet_path = op.join(preproc_root, 'sub-control01', 'anat', 'sub-control01_T1w')\n",
    "\n",
    "#########################\n",
    "# Solution\n",
    "# By reading above: we must apply FAST to the brain-extracted image. Thus we must use the BET path brain.\n",
    "##########################\n",
    "fast_target = bet_path # Replace with either anatomical_path or bet_path (note: you can try both and decide which is more reasonable!)\n",
    "\n",
    "[os.remove(f) for f in glob.glob(op.join(preproc_root, 'sub-control01', 'anat', '*fast*'))] # Just to clean the directory in between runs of the cell\n",
    "segmentation_path = op.join(preproc_root, 'sub-control01', 'anat', 'sub-control01_T1w_fast')\n",
    "fast(imgs=[fast_target], out=segmentation_path, n_classes=3)"
   ]
  },
  {
   "cell_type": "code",
   "execution_count": 14,
   "id": "d762290a-b075-4a1d-b8a6-81b7f33e5d46",
   "metadata": {},
   "outputs": [
    {
     "name": "stdout",
     "output_type": "stream",
     "text": [
      "|ds000171/\n",
      "|--- CHANGES\n",
      "|--- README\n",
      "|--- dataset_description.json\n",
      "|--- participants.tsv\n",
      "|--- derivatives/\n",
      "|------ preprocessed_data/\n",
      "|--------- sub-control01/\n",
      "|------------ anat/\n",
      "|--------------- sub-control01_T1w.nii.gz\n",
      "|--------------- sub-control01_T1w_fast_mixeltype.nii.gz\n",
      "|--------------- sub-control01_T1w_fast_pve_0.nii.gz\n",
      "|--------------- sub-control01_T1w_fast_pve_1.nii.gz\n",
      "|--------------- sub-control01_T1w_fast_pve_2.nii.gz\n",
      "|--------------- sub-control01_T1w_fast_pveseg.nii.gz\n",
      "|--------------- sub-control01_T1w_fast_seg.nii.gz\n",
      "|--------------- sub-control01_T1w_mask.nii.gz\n",
      "|------------ fmap/\n",
      "|------------ func/\n",
      "|--- sub-control01/\n",
      "|------ anat/\n",
      "|--------- sub-control01_T1w.nii.gz\n",
      "|------ func/\n",
      "|--------- sub-control01_task-music_run-1_bold.nii.gz\n",
      "|--------- sub-control01_task-music_run-1_events.tsv\n",
      "|--------- sub-control01_task-music_run-2_bold.nii.gz\n",
      "|--------- sub-control01_task-music_run-2_events.tsv\n",
      "|--------- sub-control01_task-music_run-3_bold.nii.gz\n",
      "|--------- sub-control01_task-music_run-3_events.tsv\n",
      "|--------- sub-control01_task-nonmusic_run-4_bold.nii.gz\n",
      "|--------- sub-control01_task-nonmusic_run-4_events.tsv\n",
      "|--------- sub-control01_task-nonmusic_run-5_bold.nii.gz\n",
      "|--------- sub-control01_task-nonmusic_run-5_events.tsv\n"
     ]
    }
   ],
   "source": [
    "print_dir_tree(bids_root, max_depth=5)"
   ]
  },
  {
   "cell_type": "code",
   "execution_count": 15,
   "id": "976c723e-1559-4454-a529-85f2b7f2f0f7",
   "metadata": {},
   "outputs": [],
   "source": [
    "fsleyesDisplay.resetOverlays()\n",
    "fsleyesDisplay.load(bet_path)\n",
    "fsleyesDisplay.load(glob.glob(op.join(preproc_root, 'sub-control01', 'anat','*pve_0*'))[0])\n",
    "fsleyesDisplay.load(glob.glob(op.join(preproc_root, 'sub-control01', 'anat','*pve_1*'))[0])\n",
    "fsleyesDisplay.load(glob.glob(op.join(preproc_root, 'sub-control01', 'anat','*pve_2*'))[0])\n",
    "fsleyesDisplay.displayCtx.getOpts(fsleyesDisplay.overlayList[1]).cmap = 'Red'\n",
    "fsleyesDisplay.displayCtx.getOpts(fsleyesDisplay.overlayList[2]).cmap = 'Green'\n",
    "fsleyesDisplay.displayCtx.getOpts(fsleyesDisplay.overlayList[3]).cmap = 'Blue'"
   ]
  },
  {
   "cell_type": "markdown",
   "id": "1817ab71-1118-40a9-8f31-4ce8c3de7074",
   "metadata": {},
   "source": [
    "## 3. Coregistration of images"
   ]
  },
  {
   "cell_type": "code",
   "execution_count": 16,
   "id": "36c1cb42-8bd8-4182-8e10-8f99bdea4a2e",
   "metadata": {},
   "outputs": [
    {
     "name": "stdout",
     "output_type": "stream",
     "text": [
      "Freeview is running in a separate thread.\n"
     ]
    },
    {
     "name": "stderr",
     "output_type": "stream",
     "text": [
      "QStandardPaths: XDG_RUNTIME_DIR not set, defaulting to '/tmp/runtime-jovyan'\n"
     ]
    }
   ],
   "source": [
    "import threading\n",
    "\n",
    "def launch_freeview(img_list):\n",
    "    \"\"\"\n",
    "    Wrapper around freeview to launch it with several images.\n",
    "    This wrapper is necessary to launch freeview in a separate thread, ensuring the notebook is free to do something else.\n",
    "\n",
    "    Parameters\n",
    "    ----------\n",
    "    img_list: list of string\n",
    "        List of images (files) to load. Assumed by default to be volume files.\n",
    "    \"\"\"\n",
    "    args = []\n",
    "    \n",
    "    for i in range(len(img_list)):\n",
    "        args.append(\"-v\")\n",
    "        args.append(img_list[i])\n",
    "    # Run the command\n",
    "    subprocess.run([\"freeview\"] + args)\n",
    "\n",
    "imgList = [op.expandvars('$FSLDIR/data/standard/MNI152_T1_1mm.nii.gz'), \n",
    "           op.join(preproc_root, \"sub-control01\", \"anat\", \"sub-control01_T1w.nii.gz:colormap=greyscale\")] # Modify here this list to add any image you want, in .nii.gz format\n",
    "freeview_thread = threading.Thread(target=launch_freeview, args=(imgList,)) # Remark the (imgList,) when passing to args. This is very important to make Thread work properly\n",
    "\n",
    "# Start the thread\n",
    "freeview_thread.start()\n",
    "\n",
    "print(\"Freeview is running in a separate thread.\")"
   ]
  },
  {
   "cell_type": "code",
   "execution_count": 17,
   "id": "575b68c8-7b8a-4f70-8f8c-b3979301dead",
   "metadata": {},
   "outputs": [
    {
     "name": "stdout",
     "output_type": "stream",
     "text": [
      "\n",
      "Final result: \n",
      "0.003341 0.005724 -1.116060 204.820462 \n",
      "-0.933200 0.500882 0.006703 178.661677 \n",
      "0.501569 1.049029 -0.003770 -149.723790 \n",
      "0.000000 0.000000 0.000000 1.000000 \n",
      "\n"
     ]
    },
    {
     "data": {
      "text/plain": [
       "{}"
      ]
     },
     "execution_count": 17,
     "metadata": {},
     "output_type": "execute_result"
    }
   ],
   "source": [
    "from fsl.wrappers import flirt\n",
    "\n",
    "# The two images\n",
    "subject_id = 'control01'\n",
    "subject_anatomical = op.join(preproc_root, 'sub-{}'.format(subject_id), 'anat', 'sub-control01_T1w')\n",
    "mni_template = op.expandvars(op.join('$FSLDIR', 'data', 'standard', 'MNI152_T1_1mm_brain'))\n",
    "\n",
    "###################\n",
    "# Select which image should be target or reference\n",
    "# ANSWER:\n",
    "# The subject anatomical will most often be the target, as the template is usually where we want to map our subjects for \n",
    "# group comparison.\n",
    "# There are cases, however, where we may want the subject anatomical to be the reference. This is the case when we want to map an \n",
    "# atlas to a subject while preserving the subject as much as possible.\n",
    "# We showcase here the case where the subject is chosen as target.\n",
    "##################\n",
    "target = subject_anatomical\n",
    "reference = mni_template\n",
    "result = op.join(preproc_root, 'sub-{}'.format(subject_id), 'anat', 'sub-{}_T1w_mni'.format(subject_id))\n",
    "flirt(target, reference, out=result)"
   ]
  },
  {
   "cell_type": "code",
   "execution_count": 18,
   "id": "4847ad14-6c97-4f0f-968c-ce1510fc45ba",
   "metadata": {},
   "outputs": [],
   "source": [
    "fsleyesDisplay.resetOverlays()\n",
    "fsleyesDisplay.load(reference) \n",
    "fsleyesDisplay.load(result)"
   ]
  },
  {
   "cell_type": "code",
   "execution_count": 19,
   "id": "064da380-028a-4907-8e3d-74b542186612",
   "metadata": {},
   "outputs": [
    {
     "name": "stdout",
     "output_type": "stream",
     "text": [
      "\n",
      "Final result: \n",
      "3.458371 1.648305 3.627273 -990.534765 \n",
      "-2.861950 1.235282 4.578044 -54.943603 \n",
      "0.433791 -5.372595 2.300280 588.875671 \n",
      "0.000000 0.000000 0.000000 1.000000 \n",
      "\n",
      "\n",
      "Final result: \n",
      "0.003107 0.005315 -1.116440 204.932830 \n",
      "-0.935071 0.500262 0.007008 178.944986 \n",
      "0.501467 1.049276 -0.004127 -149.788866 \n",
      "0.000000 0.000000 0.000000 1.000000 \n",
      "\n"
     ]
    }
   ],
   "source": [
    "#######\n",
    "# Solution\n",
    "# We consider only within-modalities costs, as the two images belong to the same modality: least squares and normalized correlation ratio.\n",
    "# Remark correlation ratio also technically works\n",
    "#######\n",
    "possible_costs = ['mutualinfo', 'corratio', 'normcorr', 'normmi', 'leastsq', 'labeldiff']\n",
    "costs_to_consider = [ 'leastsq', 'normcorr' ]\n",
    "\n",
    "for c in costs_to_consider:\n",
    "    flirt(target, reference, out=result + '_' + c, cost=c)"
   ]
  },
  {
   "cell_type": "code",
   "execution_count": 20,
   "id": "efb27658-1c16-4d63-aa8a-4126359ba067",
   "metadata": {},
   "outputs": [],
   "source": [
    "for c in costs_to_consider:\n",
    "    fsleyesDisplay.load(result + '_' + c)"
   ]
  },
  {
   "cell_type": "code",
   "execution_count": 21,
   "id": "34504f40-38e3-42d8-aff4-44d36986355f",
   "metadata": {},
   "outputs": [],
   "source": [
    "moving_image = ants.image_read(target + '.nii.gz')\n",
    "fixed_image = ants.image_read(reference + '.nii.gz')\n",
    "\n",
    "# Compute the transformation (non linear) to put align the moving image to the fixed image\n",
    "transformation = ants.registration(fixed=fixed_image, moving=moving_image, type_of_transform = 'SyN' )\n",
    "\n",
    "# After the transformation has been computed, apply it\n",
    "warpedImage = ants.apply_transforms(fixed=fixed_image, moving=moving_image, transformlist=transformation['fwdtransforms'])\n",
    "\n",
    "# Save the image to disk\n",
    "resultAnts = op.join(preproc_root, 'sub-{}'.format(subject_id), 'anat', 'sub-{}_T1w_mni_SyN.nii.gz'.format(subject_id))\n",
    "ants.image_write(warpedImage, resultAnts)\n",
    "\n",
    "# Inspect the results with FSLeyes or freeview, as you prefer :)"
   ]
  },
  {
   "cell_type": "code",
   "execution_count": 22,
   "id": "0dc9c709-6e5c-4308-a6ff-a392ac4ed918",
   "metadata": {},
   "outputs": [],
   "source": [
    "fsleyesDisplay.resetOverlays()\n",
    "fsleyesDisplay.load(reference)\n",
    "fsleyesDisplay.load(result)\n",
    "fsleyesDisplay.load(resultAnts)"
   ]
  },
  {
   "cell_type": "code",
   "execution_count": 23,
   "id": "8a4279b8-6e9f-4ad1-a8b9-8993c3ab1a82",
   "metadata": {},
   "outputs": [
    {
     "name": "stdout",
     "output_type": "stream",
     "text": [
      "Usage: fsl_anat [options] -i <structural image>\n",
      "       fsl_anat [options] -d <existing anat directory>\n",
      " \n",
      "Arguments (You may specify one or more of):\n",
      "  -i <strucural image>         filename of input image (for one image only)\n",
      "  -d <anat dir>                directory name for existing .anat directory where this script will be run in place\n",
      "  -o <output directory>        basename of directory for output (default is input image basename followed by .anat)\n",
      "  --clobber                    if .anat directory exist (as specified by -o or default from -i) then delete it and make a new one\n",
      "  --strongbias                 used for images with very strong bias fields\n",
      "  --weakbias                   used for images with smoother, more typical, bias fields (default setting)\n",
      "  --noreorient                 turn off step that does reorientation 2 standard (fslreorient2std)\n",
      "  --nocrop                     turn off step that does automated cropping (robustfov)\n",
      "  --nobias                     turn off steps that do bias field correction (via FAST)\n",
      "  --noreg                      turn off steps that do registration to standard (FLIRT and FNIRT)\n",
      "  --nononlinreg                turn off step that does non-linear registration (FNIRT)\n",
      "  --noseg                      turn off step that does tissue-type segmentation (FAST)\n",
      "  --nosubcortseg               turn off step that does sub-cortical segmentation (FIRST)\n",
      "  -s <value>                   specify the value for bias field smoothing (the -l option in FAST)\n",
      "  -t <type>                    specify the type of image (choose one of T1 T2 PD - default is T1)\n",
      "  --nosearch                   specify that linear registration uses the -nosearch option (FLIRT)\n",
      "  --betfparam                  specify f parameter for BET (only used if not running non-linear reg and also wanting brain extraction done)\n",
      "  --nocleanup                  do not remove intermediate files\n",
      " \n"
     ]
    },
    {
     "data": {
      "text/plain": [
       "0"
      ]
     },
     "execution_count": 23,
     "metadata": {},
     "output_type": "execute_result"
    }
   ],
   "source": [
    "os.system('fsl_anat')"
   ]
  },
  {
   "cell_type": "code",
   "execution_count": 24,
   "id": "7ae7fc47-2195-4fc4-b5f9-8a9a2c7e17ed",
   "metadata": {},
   "outputs": [],
   "source": [
    "import shutil\n",
    "\n",
    "def fsl_anat_wrapped(anatomical_target, output_path):\n",
    "    os.system('fsl_anat -i {} --clobber --nosubcortseg -o {}'.format(anatomical_target,output_path))\n",
    "    # Now move all files from the output_path.anat folder created by FSL to \n",
    "    # the actual output_path\n",
    "    fsl_anat_path = output_path+'.anat'\n",
    "    files_to_move = glob.glob(op.join(fsl_anat_path, '*'))\n",
    "    for f in files_to_move:\n",
    "        shutil.move(f, op.join(output_path, op.split(f)[1]))\n",
    "    \n",
    "    # Remove the output_path.anat folder\n",
    "    os.rmdir(fsl_anat_path)"
   ]
  },
  {
   "cell_type": "code",
   "execution_count": 25,
   "id": "84ea0478-32c5-4f1c-9eb3-c24022e06f71",
   "metadata": {},
   "outputs": [
    {
     "name": "stdout",
     "output_type": "stream",
     "text": [
      "Thu Oct 24 13:12:55 UTC 2024\n",
      "Reorienting to standard orientation\n",
      "Thu Oct 24 13:13:01 UTC 2024\n",
      "Automatically cropping the image\n",
      "Starting Single Image Segmentation\n",
      "T1-weighted image\n",
      "Imagesize : 176 x 256 x 170\n",
      "Pixelsize : 1.2 x 1 x 1\n",
      "\n",
      "1 5.15907\n",
      "2 5.58726\n",
      "3 5.94017\n",
      "KMeans Iteration 0\n",
      "KMeans Iteration 1\n",
      "KMeans Iteration 2\n",
      "KMeans Iteration 3\n",
      "KMeans Iteration 4\n",
      "KMeans Iteration 5\n",
      "KMeans Iteration 6\n",
      "KMeans Iteration 7\n",
      "KMeans Iteration 8\n",
      "KMeans Iteration 9\n",
      "KMeans Iteration 10\n",
      "KMeans Iteration 11\n",
      "KMeans Iteration 12\n",
      "KMeans Iteration 13\n",
      "KMeans Iteration 14\n",
      "Tanaka Iteration 0 bias field 10\n",
      "Tanaka-inner-loop-iteration=0 MRFWeightsTotal=2.0141e+07 beta=0.02\n",
      "Tanaka-inner-loop-iteration=1 MRFWeightsTotal=2.04326e+07 beta=0.02\n",
      "Tanaka-inner-loop-iteration=2 MRFWeightsTotal=2.04422e+07 beta=0.02\n",
      "Tanaka-inner-loop-iteration=3 MRFWeightsTotal=2.04426e+07 beta=0.02\n",
      "Tanaka-inner-loop-iteration=4 MRFWeightsTotal=2.04426e+07 beta=0.02\n",
      " CLASS 1 MEAN 100.155 STDDEV 131.718 CLASS 2 MEAN 257.478 STDDEV 69.432 CLASS 3 MEAN 403.414 STDDEV 163.505\n",
      "Tanaka Iteration 1 bias field 10\n",
      "Tanaka-inner-loop-iteration=0 MRFWeightsTotal=2.02747e+07 beta=0.02\n",
      "Tanaka-inner-loop-iteration=1 MRFWeightsTotal=2.05577e+07 beta=0.02\n",
      "Tanaka-inner-loop-iteration=2 MRFWeightsTotal=2.0567e+07 beta=0.02\n",
      "Tanaka-inner-loop-iteration=3 MRFWeightsTotal=2.05673e+07 beta=0.02\n",
      "Tanaka-inner-loop-iteration=4 MRFWeightsTotal=2.05673e+07 beta=0.02\n",
      " CLASS 1 MEAN 96.8363 STDDEV 123.593 CLASS 2 MEAN 261.603 STDDEV 64.4451 CLASS 3 MEAN 387.156 STDDEV 144.254\n",
      "Tanaka Iteration 2 bias field 10\n",
      "Tanaka-inner-loop-iteration=0 MRFWeightsTotal=2.03745e+07 beta=0.02\n",
      "Tanaka-inner-loop-iteration=1 MRFWeightsTotal=2.0656e+07 beta=0.02\n",
      "Tanaka-inner-loop-iteration=2 MRFWeightsTotal=2.06652e+07 beta=0.02\n",
      "Tanaka-inner-loop-iteration=3 MRFWeightsTotal=2.06655e+07 beta=0.02\n",
      "Tanaka-inner-loop-iteration=4 MRFWeightsTotal=2.06656e+07 beta=0.02\n",
      " CLASS 1 MEAN 96.2707 STDDEV 122.98 CLASS 2 MEAN 263.913 STDDEV 61.3659 CLASS 3 MEAN 383.736 STDDEV 140.51\n",
      "Tanaka Iteration 3 bias field 10\n",
      "Tanaka-inner-loop-iteration=0 MRFWeightsTotal=2.04491e+07 beta=0.02\n",
      "Tanaka-inner-loop-iteration=1 MRFWeightsTotal=2.0731e+07 beta=0.02\n",
      "Tanaka-inner-loop-iteration=2 MRFWeightsTotal=2.07402e+07 beta=0.02\n",
      "Tanaka-inner-loop-iteration=3 MRFWeightsTotal=2.07405e+07 beta=0.02\n",
      "Tanaka-inner-loop-iteration=4 MRFWeightsTotal=2.07406e+07 beta=0.02\n",
      " CLASS 1 MEAN 96.5482 STDDEV 123.328 CLASS 2 MEAN 265.329 STDDEV 59.2684 CLASS 3 MEAN 382.812 STDDEV 140.238\n",
      "Tanaka Iteration 4 bias field 10\n",
      "Tanaka-inner-loop-iteration=0 MRFWeightsTotal=2.05073e+07 beta=0.02\n",
      "Tanaka-inner-loop-iteration=1 MRFWeightsTotal=2.07904e+07 beta=0.02\n",
      "Tanaka-inner-loop-iteration=2 MRFWeightsTotal=2.07996e+07 beta=0.02\n",
      "Tanaka-inner-loop-iteration=3 MRFWeightsTotal=2.08e+07 beta=0.02\n",
      "Tanaka-inner-loop-iteration=4 MRFWeightsTotal=2.08e+07 beta=0.02\n",
      " CLASS 1 MEAN 96.9493 STDDEV 123.675 CLASS 2 MEAN 266.243 STDDEV 57.6793 CLASS 3 MEAN 382.637 STDDEV 141.289\n",
      "Tanaka Iteration 5 bias field 10\n",
      "Tanaka-inner-loop-iteration=0 MRFWeightsTotal=2.05532e+07 beta=0.02\n",
      "Tanaka-inner-loop-iteration=1 MRFWeightsTotal=2.08381e+07 beta=0.02\n",
      "Tanaka-inner-loop-iteration=2 MRFWeightsTotal=2.08473e+07 beta=0.02\n",
      "Tanaka-inner-loop-iteration=3 MRFWeightsTotal=2.08476e+07 beta=0.02\n",
      "Tanaka-inner-loop-iteration=4 MRFWeightsTotal=2.08477e+07 beta=0.02\n",
      " CLASS 1 MEAN 97.2688 STDDEV 123.831 CLASS 2 MEAN 266.871 STDDEV 56.4013 CLASS 3 MEAN 382.688 STDDEV 142.953\n",
      "Tanaka Iteration 6 bias field 10\n",
      "Tanaka-inner-loop-iteration=0 MRFWeightsTotal=2.05894e+07 beta=0.02\n",
      "Tanaka-inner-loop-iteration=1 MRFWeightsTotal=2.08754e+07 beta=0.02\n",
      "Tanaka-inner-loop-iteration=2 MRFWeightsTotal=2.08847e+07 beta=0.02\n",
      "Tanaka-inner-loop-iteration=3 MRFWeightsTotal=2.0885e+07 beta=0.02\n",
      "Tanaka-inner-loop-iteration=4 MRFWeightsTotal=2.08851e+07 beta=0.02\n",
      " CLASS 1 MEAN 97.4811 STDDEV 123.814 CLASS 2 MEAN 267.339 STDDEV 55.3394 CLASS 3 MEAN 382.759 STDDEV 144.898\n",
      "Tanaka Iteration 7 bias field 10\n",
      "Tanaka-inner-loop-iteration=0 MRFWeightsTotal=2.06151e+07 beta=0.02\n",
      "Tanaka-inner-loop-iteration=1 MRFWeightsTotal=2.09029e+07 beta=0.02\n",
      "Tanaka-inner-loop-iteration=2 MRFWeightsTotal=2.09122e+07 beta=0.02\n",
      "Tanaka-inner-loop-iteration=3 MRFWeightsTotal=2.09126e+07 beta=0.02\n",
      "Tanaka-inner-loop-iteration=4 MRFWeightsTotal=2.09126e+07 beta=0.02\n",
      " CLASS 1 MEAN 97.6118 STDDEV 123.694 CLASS 2 MEAN 267.719 STDDEV 54.4448 CLASS 3 MEAN 382.764 STDDEV 146.946\n",
      "Tanaka Iteration 8 bias field 10\n",
      "Tanaka-inner-loop-iteration=0 MRFWeightsTotal=2.06323e+07 beta=0.02\n",
      "Tanaka-inner-loop-iteration=1 MRFWeightsTotal=2.0921e+07 beta=0.02\n",
      "Tanaka-inner-loop-iteration=2 MRFWeightsTotal=2.09303e+07 beta=0.02\n",
      "Tanaka-inner-loop-iteration=3 MRFWeightsTotal=2.09307e+07 beta=0.02\n",
      "Tanaka-inner-loop-iteration=4 MRFWeightsTotal=2.09307e+07 beta=0.02\n",
      " CLASS 1 MEAN 97.6914 STDDEV 123.534 CLASS 2 MEAN 268.052 STDDEV 53.6852 CLASS 3 MEAN 382.66 STDDEV 148.984\n",
      "Tanaka Iteration 9 bias field 10\n",
      "Tanaka-inner-loop-iteration=0 MRFWeightsTotal=2.06405e+07 beta=0.02\n",
      "Tanaka-inner-loop-iteration=1 MRFWeightsTotal=2.09303e+07 beta=0.02\n",
      "Tanaka-inner-loop-iteration=2 MRFWeightsTotal=2.09397e+07 beta=0.02\n",
      "Tanaka-inner-loop-iteration=3 MRFWeightsTotal=2.09401e+07 beta=0.02\n",
      "Tanaka-inner-loop-iteration=4 MRFWeightsTotal=2.09401e+07 beta=0.02\n",
      " CLASS 1 MEAN 97.7441 STDDEV 123.379 CLASS 2 MEAN 268.363 STDDEV 53.039 CLASS 3 MEAN 382.432 STDDEV 150.947\n",
      "\n",
      " tissue 1 1.0142e+06\n",
      " tissue 2 1.19153e+06\n",
      " tissue 3 1.11285e+06\n",
      " total tissue 3.31857e+06\n",
      "Thu Oct 24 13:18:09 UTC 2024\n",
      "Extrapolating bias field from central region\n",
      "Cost is 3.93335e-05\n",
      "Cost is 5.73634e-06\n",
      "Thu Oct 24 13:18:35 UTC 2024\n",
      "Registering to standard space (linear)\n",
      "Thu Oct 24 13:18:58 UTC 2024\n",
      "Registering to standard space (non-linear)\n",
      "Thu Oct 24 13:24:11 UTC 2024\n",
      "Performing brain extraction (using FNIRT)\n",
      "Thu Oct 24 13:25:42 UTC 2024\n",
      "Performing tissue-type segmentation\n",
      "Cost is 1.31503e-06\n",
      "Cost is 1.45635e-07\n",
      "Skull-constrained registration (linear)\n",
      "Thu Oct 24 13:30:19 UTC 2024\n",
      "Cleaning up intermediate files\n"
     ]
    }
   ],
   "source": [
    "fsl_anat_wrapped(anatomical_path, op.join(preproc_root, 'sub-control01', 'anat'))"
   ]
  },
  {
   "cell_type": "code",
   "execution_count": 26,
   "id": "34eb119f-55c7-421b-b0b1-8b4774a095b8",
   "metadata": {},
   "outputs": [
    {
     "name": "stdout",
     "output_type": "stream",
     "text": [
      "|ds000171/\n",
      "|--- CHANGES\n",
      "|--- README\n",
      "|--- dataset_description.json\n",
      "|--- participants.tsv\n",
      "|--- derivatives/\n",
      "|------ preprocessed_data/\n",
      "|--------- sub-control01/\n",
      "|------------ anat/\n",
      "|--------------- MNI152_T1_2mm_brain_mask_dil1.nii.gz\n",
      "|--------------- MNI_to_T1_nonlin_field.nii.gz\n",
      "|--------------- T1.nii.gz\n",
      "|--------------- T12std_skullcon.mat\n",
      "|--------------- T1_biascorr.nii.gz\n",
      "|--------------- T1_biascorr_bet_skull.nii.gz\n",
      "|--------------- T1_biascorr_brain.nii.gz\n",
      "|--------------- T1_biascorr_brain_mask.nii.gz\n",
      "|--------------- T1_fast_bias.nii.gz\n",
      "|--------------- T1_fast_mixeltype.nii.gz\n",
      "|--------------- T1_fast_pve_0.nii.gz\n",
      "|--------------- T1_fast_pve_1.nii.gz\n",
      "|--------------- T1_fast_pve_2.nii.gz\n",
      "|--------------- T1_fast_pveseg.nii.gz\n",
      "|--------------- T1_fast_restore.nii.gz\n",
      "|--------------- T1_fast_seg.nii.gz\n",
      "|--------------- T1_fullfov.nii.gz\n",
      "|--------------- T1_nonroi2roi.mat\n",
      "|--------------- T1_orig.nii.gz\n",
      "|--------------- T1_orig2roi.mat\n",
      "|--------------- T1_orig2std.mat\n",
      "|--------------- T1_roi.log\n",
      "|--------------- T1_roi2nonroi.mat\n",
      "|--------------- T1_roi2orig.mat\n",
      "|--------------- T1_std2orig.mat\n",
      "|--------------- T1_to_MNI_lin.mat\n",
      "|--------------- T1_to_MNI_lin.nii.gz\n",
      "|--------------- T1_to_MNI_nonlin.nii.gz\n",
      "|--------------- T1_to_MNI_nonlin.txt\n",
      "|--------------- T1_to_MNI_nonlin_coeff.nii.gz\n",
      "|--------------- T1_to_MNI_nonlin_field.nii.gz\n",
      "|--------------- T1_to_MNI_nonlin_jac.nii.gz\n",
      "|--------------- T1_vols.txt\n",
      "|--------------- lesionmask.nii.gz\n",
      "|--------------- lesionmaskinv.nii.gz\n",
      "|--------------- log.txt\n",
      "|--------------- sub-control01_T1w.nii.gz\n",
      "|--------------- sub-control01_T1w_fast_mixeltype.nii.gz\n",
      "|--------------- sub-control01_T1w_fast_pve_0.nii.gz\n",
      "|--------------- sub-control01_T1w_fast_pve_1.nii.gz\n",
      "|--------------- sub-control01_T1w_fast_pve_2.nii.gz\n",
      "|--------------- sub-control01_T1w_fast_pveseg.nii.gz\n",
      "|--------------- sub-control01_T1w_fast_seg.nii.gz\n",
      "|--------------- sub-control01_T1w_mask.nii.gz\n",
      "|--------------- sub-control01_T1w_mni.nii.gz\n",
      "|--------------- sub-control01_T1w_mni_SyN.nii.gz\n",
      "|--------------- sub-control01_T1w_mni_leastsq.nii.gz\n",
      "|--------------- sub-control01_T1w_mni_normcorr.nii.gz\n",
      "|------------ fmap/\n",
      "|------------ func/\n",
      "|--- sub-control01/\n",
      "|------ anat/\n",
      "|--------- sub-control01_T1w.nii.gz\n",
      "|------ func/\n",
      "|--------- sub-control01_task-music_run-1_bold.nii.gz\n",
      "|--------- sub-control01_task-music_run-1_events.tsv\n",
      "|--------- sub-control01_task-music_run-2_bold.nii.gz\n",
      "|--------- sub-control01_task-music_run-2_events.tsv\n",
      "|--------- sub-control01_task-music_run-3_bold.nii.gz\n",
      "|--------- sub-control01_task-music_run-3_events.tsv\n",
      "|--------- sub-control01_task-nonmusic_run-4_bold.nii.gz\n",
      "|--------- sub-control01_task-nonmusic_run-4_events.tsv\n",
      "|--------- sub-control01_task-nonmusic_run-5_bold.nii.gz\n",
      "|--------- sub-control01_task-nonmusic_run-5_events.tsv\n"
     ]
    }
   ],
   "source": [
    "print_dir_tree(bids_root, max_depth=5)"
   ]
  },
  {
   "cell_type": "code",
   "execution_count": 27,
   "id": "1f350dfe-91da-453c-91a6-9674da9c5dd2",
   "metadata": {},
   "outputs": [],
   "source": [
    "fsleyesDisplay.resetOverlays()\n",
    "fsleyesDisplay.load(op.expandvars(op.join('$FSLDIR', 'data', 'standard', 'MNI152_T1_1mm')))\n",
    "fsleyesDisplay.load(op.join(preproc_root, 'sub-control01', 'anat', 'T1_to_MNI_lin'))\n",
    "fsleyesDisplay.load(op.join(preproc_root, 'sub-control01', 'anat', 'T1_to_MNI_nonlin'))"
   ]
  },
  {
   "cell_type": "markdown",
   "id": "84ab1065-bc82-4217-a804-49efa5e75c34",
   "metadata": {},
   "source": [
    "# Lab 3"
   ]
  },
  {
   "cell_type": "markdown",
   "id": "848a9db9-e953-4769-af72-edaa8f4e8239",
   "metadata": {},
   "source": [
    "## 4. fMRI preprocessing"
   ]
  },
  {
   "cell_type": "code",
   "execution_count": 29,
   "id": "3a22aa64-ade5-46cf-8e89-86c0c6098062",
   "metadata": {},
   "outputs": [],
   "source": [
    "fsleyesDisplay.resetOverlays()\n",
    "fsleyesDisplay.load(op.join(bids_root_demo, 'sub-control01', 'func', 'sub-control01_task-music_run-1_bold.nii.gz'))"
   ]
  },
  {
   "cell_type": "code",
   "execution_count": 31,
   "id": "88902e50-ddfa-48c6-af34-d9d374b57b42",
   "metadata": {},
   "outputs": [
    {
     "data": {
      "text/plain": [
       "Text(0, 0.5, 'Mean voxel intensity')"
      ]
     },
     "execution_count": 31,
     "metadata": {},
     "output_type": "execute_result"
    },
    {
     "data": {
      "image/png": "[encoded data removed]",
      "text/plain": [
       "<Figure size 640x480 with 1 Axes>"
      ]
     },
     "metadata": {},
     "output_type": "display_data"
    }
   ],
   "source": [
    "import matplotlib.pyplot as plt\n",
    "import nibabel as nib\n",
    "\n",
    "plt.plot(nib.load(op.join(bids_root_demo, 'sub-control01', 'func', 'sub-control01_task-music_run-1_bold.nii.gz')).get_fdata().mean(axis=(0,1,2)))\n",
    "plt.xlabel('Time (volume)')\n",
    "plt.ylabel('Mean voxel intensity')"
   ]
  },
  {
   "cell_type": "code",
   "execution_count": 34,
   "id": "0e6c884d-0c1c-463d-8e35-f67968bbc4ee",
   "metadata": {},
   "outputs": [
    {
     "name": "stderr",
     "output_type": "stream",
     "text": [
      "Processed data will be saved as /home/jovyan/Data/dataset/ds000171/derivatives/preprocessed_data/sub-control01/func/sub-control01_task-music_run-1_bold_moco\n",
      "\n",
      "McFLIRT v 2.0 - FMRI motion correction\n",
      "\n",
      "Reading time series... \n",
      "first iteration - 8mm scaling, set tolerance\n",
      "Rescaling reference volume [52] to 8 mm pixels\n",
      "Registering volumes ... [53][54][55][56][57][58][59][60][61][62][63][64][65][66][67][68][69][70][71][72][73][74][75][76][77][78][79][80][81][82][83][84][85][86][87][88][89][90][91][92][93][94][95][96][97][98][99][100][101][102][103][104][51][50][49][48][47][46][45][44][43][42][41][40][39][38][37][36][35][34][33][32][31][30][29][28][27][26][25][24][23][22][21][20][19][18][17][16][15][14][13][12][11][10][9][8][7][6][5][4][3][2][1][0]\n",
      "second iteration - drop to 4mm scaling\n",
      "Rescaling reference volume [52] to 4 mm pixels\n",
      "Registering volumes ... [53][54][55][56][57][58][59][60][61][62][63][64][65][66][67][68][69][70][71][72][73][74][75][76][77][78][79][80][81][82][83][84][85][86][87][88][89][90][91][92][93][94][95][96][97][98][99][100][101][102][103][104][51][50][49][48][47][46][45][44][43][42][41][40][39][38][37][36][35][34][33][32][31][30][29][28][27][26][25][24][23][22][21][20][19][18][17][16][15][14][13][12][11][10][9][8][7][6][5][4][3][2][1][0]\n",
      "third iteration - 4mm scaling, eighth tolerance\n"
     ]
    },
    {
     "name": "stdout",
     "output_type": "stream",
     "text": [
      "refnum = 52\n",
      "Original_refvol = -1\n"
     ]
    },
    {
     "name": "stderr",
     "output_type": "stream",
     "text": [
      "Registering volumes ... [53][54][55][56][57][58][59][60][61][62][63][64][65][66][67][68][69][70][71][72][73][74][75][76][77][78][79][80][81][82][83][84][85][86][87][88][89][90][91][92][93][94][95][96][97][98][99][100][101][102][103][104][51][50][49][48][47][46][45][44][43][42][41][40][39][38][37][36][35][34][33][32][31][30][29][28][27][26][25][24][23][22][21][20][19][18][17][16][15][14][13][12][11][10][9][8][7][6][5][4][3][2][1][0]\n",
      "Saving motion corrected time series... \n"
     ]
    },
    {
     "data": {
      "text/plain": [
       "{}"
      ]
     },
     "execution_count": 34,
     "metadata": {},
     "output_type": "execute_result"
    }
   ],
   "source": [
    "from fsl.wrappers import mcflirt\n",
    "\n",
    "path_original_data = os.path.join(bids_root, 'sub-control01', 'func', 'sub-control01_task-music_run-1_bold')\n",
    "path_moco_data = os.path.join(preproc_root, 'sub-control01', 'func', 'sub-control01_task-music_run-1_bold_moco')\n",
    "mcflirt(infile=path_original_data,o=path_moco_data, plots=True, report=True, dof=6, mats=True)"
   ]
  },
  {
   "cell_type": "code",
   "execution_count": 35,
   "id": "2370b1e5-6bcb-43d1-8751-c010cf93bda0",
   "metadata": {},
   "outputs": [
    {
     "name": "stdout",
     "output_type": "stream",
     "text": [
      "|ds000171/\n",
      "|--- CHANGES\n",
      "|--- README\n",
      "|--- dataset_description.json\n",
      "|--- participants.tsv\n",
      "|--- derivatives/\n",
      "|------ preprocessed_data/\n",
      "|--------- sub-control01/\n",
      "|------------ anat/\n",
      "|--------------- MNI152_T1_2mm_brain_mask_dil1.nii.gz\n",
      "|--------------- MNI_to_T1_nonlin_field.nii.gz\n",
      "|--------------- T1.nii.gz\n",
      "|--------------- T12std_skullcon.mat\n",
      "|--------------- T1_biascorr.nii.gz\n",
      "|--------------- T1_biascorr_bet_skull.nii.gz\n",
      "|--------------- T1_biascorr_brain.nii.gz\n",
      "|--------------- T1_biascorr_brain_mask.nii.gz\n",
      "|--------------- T1_fast_bias.nii.gz\n",
      "|--------------- T1_fast_mixeltype.nii.gz\n",
      "|--------------- T1_fast_pve_0.nii.gz\n",
      "|--------------- T1_fast_pve_1.nii.gz\n",
      "|--------------- T1_fast_pve_2.nii.gz\n",
      "|--------------- T1_fast_pveseg.nii.gz\n",
      "|--------------- T1_fast_restore.nii.gz\n",
      "|--------------- T1_fast_seg.nii.gz\n",
      "|--------------- T1_fullfov.nii.gz\n",
      "|--------------- T1_nonroi2roi.mat\n",
      "|--------------- T1_orig.nii.gz\n",
      "|--------------- T1_orig2roi.mat\n",
      "|--------------- T1_orig2std.mat\n",
      "|--------------- T1_roi.log\n",
      "|--------------- T1_roi2nonroi.mat\n",
      "|--------------- T1_roi2orig.mat\n",
      "|--------------- T1_std2orig.mat\n",
      "|--------------- T1_to_MNI_lin.mat\n",
      "|--------------- T1_to_MNI_lin.nii.gz\n",
      "|--------------- T1_to_MNI_nonlin.nii.gz\n",
      "|--------------- T1_to_MNI_nonlin.txt\n",
      "|--------------- T1_to_MNI_nonlin_coeff.nii.gz\n",
      "|--------------- T1_to_MNI_nonlin_field.nii.gz\n",
      "|--------------- T1_to_MNI_nonlin_jac.nii.gz\n",
      "|--------------- T1_vols.txt\n",
      "|--------------- lesionmask.nii.gz\n",
      "|--------------- lesionmaskinv.nii.gz\n",
      "|--------------- log.txt\n",
      "|--------------- sub-control01_T1w.nii.gz\n",
      "|--------------- sub-control01_T1w_fast_mixeltype.nii.gz\n",
      "|--------------- sub-control01_T1w_fast_pve_0.nii.gz\n",
      "|--------------- sub-control01_T1w_fast_pve_1.nii.gz\n",
      "|--------------- sub-control01_T1w_fast_pve_2.nii.gz\n",
      "|--------------- sub-control01_T1w_fast_pveseg.nii.gz\n",
      "|--------------- sub-control01_T1w_fast_seg.nii.gz\n",
      "|--------------- sub-control01_T1w_mask.nii.gz\n",
      "|--------------- sub-control01_T1w_mni.nii.gz\n",
      "|--------------- sub-control01_T1w_mni_SyN.nii.gz\n",
      "|--------------- sub-control01_T1w_mni_leastsq.nii.gz\n",
      "|--------------- sub-control01_T1w_mni_normcorr.nii.gz\n",
      "|------------ fmap/\n",
      "|------------ func/\n",
      "|--------------- sub-control01_task-music_run-1_bold_moco.nii.gz\n",
      "|--------------- sub-control01_task-music_run-1_bold_moco.par\n",
      "|--------------- sub-control01_task-music_run-1_bold_moco.mat/\n",
      "|--- sub-control01/\n",
      "|------ anat/\n",
      "|--------- sub-control01_T1w.nii.gz\n",
      "|------ func/\n",
      "|--------- sub-control01_task-music_run-1_bold.nii.gz\n",
      "|--------- sub-control01_task-music_run-1_events.tsv\n",
      "|--------- sub-control01_task-music_run-2_bold.nii.gz\n",
      "|--------- sub-control01_task-music_run-2_events.tsv\n",
      "|--------- sub-control01_task-music_run-3_bold.nii.gz\n",
      "|--------- sub-control01_task-music_run-3_events.tsv\n",
      "|--------- sub-control01_task-nonmusic_run-4_bold.nii.gz\n",
      "|--------- sub-control01_task-nonmusic_run-4_events.tsv\n",
      "|--------- sub-control01_task-nonmusic_run-5_bold.nii.gz\n",
      "|--------- sub-control01_task-nonmusic_run-5_events.tsv\n"
     ]
    }
   ],
   "source": [
    "print_dir_tree(bids_root, max_depth=5)"
   ]
  },
  {
   "cell_type": "code",
   "execution_count": 36,
   "id": "e2b259f4-7244-449f-8e22-2799ba32dd39",
   "metadata": {},
   "outputs": [],
   "source": [
    "fsleyesDisplay.resetOverlays()\n",
    "fsleyesDisplay.load(path_original_data)\n",
    "fsleyesDisplay.load(path_moco_data)"
   ]
  },
  {
   "cell_type": "code",
   "execution_count": 37,
   "id": "065f49ed-05a2-4ef8-955f-083cb6abee5d",
   "metadata": {},
   "outputs": [
    {
     "data": {
      "text/html": [
       "<div>\n",
       "<style scoped>\n",
       "    .dataframe tbody tr th:only-of-type {\n",
       "        vertical-align: middle;\n",
       "    }\n",
       "\n",
       "    .dataframe tbody tr th {\n",
       "        vertical-align: top;\n",
       "    }\n",
       "\n",
       "    .dataframe thead th {\n",
       "        text-align: right;\n",
       "    }\n",
       "</style>\n",
       "<table border=\"1\" class=\"dataframe\">\n",
       "  <thead>\n",
       "    <tr style=\"text-align: right;\">\n",
       "      <th></th>\n",
       "      <th>Rotation x</th>\n",
       "      <th>Rotation y</th>\n",
       "      <th>Rotation z</th>\n",
       "      <th>Translation x</th>\n",
       "      <th>Translation y</th>\n",
       "      <th>Translation z</th>\n",
       "    </tr>\n",
       "  </thead>\n",
       "  <tbody>\n",
       "    <tr>\n",
       "      <th>0</th>\n",
       "      <td>0.000843</td>\n",
       "      <td>0.000589</td>\n",
       "      <td>-0.000283</td>\n",
       "      <td>-0.020640</td>\n",
       "      <td>-0.088168</td>\n",
       "      <td>-0.061575</td>\n",
       "    </tr>\n",
       "    <tr>\n",
       "      <th>1</th>\n",
       "      <td>0.000587</td>\n",
       "      <td>0.000481</td>\n",
       "      <td>-0.000326</td>\n",
       "      <td>-0.020651</td>\n",
       "      <td>-0.071060</td>\n",
       "      <td>-0.046486</td>\n",
       "    </tr>\n",
       "    <tr>\n",
       "      <th>2</th>\n",
       "      <td>0.000933</td>\n",
       "      <td>0.000589</td>\n",
       "      <td>-0.000394</td>\n",
       "      <td>-0.020618</td>\n",
       "      <td>-0.046722</td>\n",
       "      <td>-0.035206</td>\n",
       "    </tr>\n",
       "    <tr>\n",
       "      <th>3</th>\n",
       "      <td>0.000550</td>\n",
       "      <td>0.000816</td>\n",
       "      <td>-0.000394</td>\n",
       "      <td>-0.020571</td>\n",
       "      <td>-0.072742</td>\n",
       "      <td>-0.049830</td>\n",
       "    </tr>\n",
       "    <tr>\n",
       "      <th>4</th>\n",
       "      <td>0.000858</td>\n",
       "      <td>0.000589</td>\n",
       "      <td>-0.000394</td>\n",
       "      <td>-0.020618</td>\n",
       "      <td>-0.060591</td>\n",
       "      <td>-0.083145</td>\n",
       "    </tr>\n",
       "    <tr>\n",
       "      <th>...</th>\n",
       "      <td>...</td>\n",
       "      <td>...</td>\n",
       "      <td>...</td>\n",
       "      <td>...</td>\n",
       "      <td>...</td>\n",
       "      <td>...</td>\n",
       "    </tr>\n",
       "    <tr>\n",
       "      <th>100</th>\n",
       "      <td>0.000952</td>\n",
       "      <td>-0.000853</td>\n",
       "      <td>0.000040</td>\n",
       "      <td>-0.013383</td>\n",
       "      <td>0.118385</td>\n",
       "      <td>0.187859</td>\n",
       "    </tr>\n",
       "    <tr>\n",
       "      <th>101</th>\n",
       "      <td>0.000457</td>\n",
       "      <td>-0.001224</td>\n",
       "      <td>0.000051</td>\n",
       "      <td>-0.009799</td>\n",
       "      <td>0.133098</td>\n",
       "      <td>0.214907</td>\n",
       "    </tr>\n",
       "    <tr>\n",
       "      <th>102</th>\n",
       "      <td>0.001244</td>\n",
       "      <td>-0.001305</td>\n",
       "      <td>0.000298</td>\n",
       "      <td>-0.028813</td>\n",
       "      <td>0.134919</td>\n",
       "      <td>0.187284</td>\n",
       "    </tr>\n",
       "    <tr>\n",
       "      <th>103</th>\n",
       "      <td>0.000731</td>\n",
       "      <td>-0.001537</td>\n",
       "      <td>0.000073</td>\n",
       "      <td>-0.030532</td>\n",
       "      <td>0.127386</td>\n",
       "      <td>0.185354</td>\n",
       "    </tr>\n",
       "    <tr>\n",
       "      <th>104</th>\n",
       "      <td>0.000727</td>\n",
       "      <td>-0.001304</td>\n",
       "      <td>0.000000</td>\n",
       "      <td>-0.049218</td>\n",
       "      <td>0.124305</td>\n",
       "      <td>0.134442</td>\n",
       "    </tr>\n",
       "  </tbody>\n",
       "</table>\n",
       "<p>105 rows × 6 columns</p>\n",
       "</div>"
      ],
      "text/plain": [
       "     Rotation x  Rotation y  Rotation z  Translation x  Translation y  \\\n",
       "0      0.000843    0.000589   -0.000283      -0.020640      -0.088168   \n",
       "1      0.000587    0.000481   -0.000326      -0.020651      -0.071060   \n",
       "2      0.000933    0.000589   -0.000394      -0.020618      -0.046722   \n",
       "3      0.000550    0.000816   -0.000394      -0.020571      -0.072742   \n",
       "4      0.000858    0.000589   -0.000394      -0.020618      -0.060591   \n",
       "..          ...         ...         ...            ...            ...   \n",
       "100    0.000952   -0.000853    0.000040      -0.013383       0.118385   \n",
       "101    0.000457   -0.001224    0.000051      -0.009799       0.133098   \n",
       "102    0.001244   -0.001305    0.000298      -0.028813       0.134919   \n",
       "103    0.000731   -0.001537    0.000073      -0.030532       0.127386   \n",
       "104    0.000727   -0.001304    0.000000      -0.049218       0.124305   \n",
       "\n",
       "     Translation z  \n",
       "0        -0.061575  \n",
       "1        -0.046486  \n",
       "2        -0.035206  \n",
       "3        -0.049830  \n",
       "4        -0.083145  \n",
       "..             ...  \n",
       "100       0.187859  \n",
       "101       0.214907  \n",
       "102       0.187284  \n",
       "103       0.185354  \n",
       "104       0.134442  \n",
       "\n",
       "[105 rows x 6 columns]"
      ]
     },
     "execution_count": 37,
     "metadata": {},
     "output_type": "execute_result"
    }
   ],
   "source": [
    "def load_mot_params_fsl_6_dof(path):\n",
    "    return pd.read_csv(path, sep='  ', header=None, \n",
    "            engine='python', names=['Rotation x', 'Rotation y', 'Rotation z','Translation x', 'Translation y', 'Translation z'])\n",
    "\n",
    "mot_params = load_mot_params_fsl_6_dof(op.join(preproc_root, 'sub-control01', 'func', 'sub-control01_task-music_run-1_bold_moco.par'))\n",
    "mot_params"
   ]
  },
  {
   "cell_type": "code",
   "execution_count": 39,
   "id": "08636da6-3275-4867-9828-836314e54f40",
   "metadata": {},
   "outputs": [
    {
     "data": {
      "image/png": "[encoded data removed]",
      "text/plain": [
       "<Figure size 640x480 with 1 Axes>"
      ]
     },
     "metadata": {},
     "output_type": "display_data"
    }
   ],
   "source": [
    "# write your code here to inspect quickly the translation on X :)\n",
    "#%matplotlib inline\n",
    "\n",
    "# Getting the translation is easy\n",
    "trans_x = mot_params[\"Translation x\"]\n",
    "# Now, we want a 0.2mm with respect to previous frame:\n",
    "disp_x = np.diff(trans_x)\n",
    "# Lastly, we can ask for displacements (in absolute value) above 0.2mm and plot it to be clear:\n",
    "threshold=0.2\n",
    "plt.plot(np.abs(disp_x))\n",
    "plt.hlines(threshold, 0, 105,colors='black', linestyles='dashed', label='FD threshold')\n",
    "plt.xlabel(\"Volumes\")\n",
    "plt.ylabel(\"Framewise translation displacement (mm)\")\n",
    "plt.show()\n",
    "\n",
    "# There are basically (if looking only along X translation) no frame displacement above 0.2mm!"
   ]
  },
  {
   "cell_type": "code",
   "execution_count": 40,
   "id": "f5152309-47fb-467c-9a5c-7ccac83f780f",
   "metadata": {},
   "outputs": [],
   "source": [
    "def compute_FD_power(mot_params):\n",
    "    framewise_diff = mot_params.diff().iloc[1:]\n",
    "\n",
    "    rot_params = framewise_diff[['Rotation x', 'Rotation y', 'Rotation z']]\n",
    "    # Estimating displacement on a 50mm radius sphere\n",
    "    # To know this one, we can remember the definition of the radian!\n",
    "    # Indeed, let the radian be theta, the arc length be s and the radius be r.\n",
    "    # Then theta = s / r\n",
    "    # We want to determine here s, for a sphere of 50mm radius and knowing theta. Easy enough!\n",
    "    \n",
    "    # Another way to think about it is through the line integral along the circle.\n",
    "    # Integrating from 0 to theta with radius 50 will give you, unsurprisingly, r0 theta.\n",
    "    converted_rots = rot_params*50\n",
    "    trans_params = framewise_diff[['Translation x', 'Translation y', 'Translation z']]\n",
    "    fd = converted_rots.abs().sum(axis=1) + trans_params.abs().sum(axis=1)\n",
    "    return fd\n",
    "\n",
    "fd = compute_FD_power(mot_params).to_numpy()"
   ]
  },
  {
   "cell_type": "code",
   "execution_count": 41,
   "id": "4ee82add-b08f-4566-b1ca-53cabc50c0a4",
   "metadata": {},
   "outputs": [],
   "source": [
    "threshold = np.quantile(fd,0.75) + 1.5*(np.quantile(fd,0.75) - np.quantile(fd,0.25))"
   ]
  },
  {
   "cell_type": "code",
   "execution_count": 43,
   "id": "ca2bb9eb-f0ea-42ea-9e46-364c72906660",
   "metadata": {},
   "outputs": [
    {
     "data": {
      "image/png": "[encoded data removed]",
      "text/plain": [
       "<Figure size 640x480 with 1 Axes>"
      ]
     },
     "metadata": {},
     "output_type": "display_data"
    }
   ],
   "source": [
    "#%matplotlib inline\n",
    "plt.plot(list(range(1, fd.size+1)), fd)\n",
    "plt.xlabel('Volume')\n",
    "plt.ylabel('FD displacement (mm)')\n",
    "plt.hlines(threshold, 0, 105, colors='black', linestyles='dashed', label='FD threshold')\n",
    "plt.legend()\n",
    "plt.show()"
   ]
  },
  {
   "cell_type": "code",
   "execution_count": 44,
   "id": "bf443860-0c18-4e7c-914e-e2b8b22e20a8",
   "metadata": {},
   "outputs": [
    {
     "data": {
      "text/plain": [
       "array([], dtype=int64)"
      ]
     },
     "execution_count": 44,
     "metadata": {},
     "output_type": "execute_result"
    }
   ],
   "source": [
    "np.where(fd > threshold)[0] + 1"
   ]
  },
  {
   "cell_type": "code",
   "execution_count": 45,
   "id": "f2ebaa27-42fa-43d7-9e23-bfc9c7485cb8",
   "metadata": {},
   "outputs": [
    {
     "name": "stdout",
     "output_type": "stream",
     "text": [
      "\n",
      "Usage: epi_reg [options] --epi=<EPI image> --t1=<wholehead T1 image> --t1brain=<brain extracted T1 image> --out=<output name>\n",
      " \n",
      "Optional arguments\n",
      "  --fmap=<image>         : fieldmap image (in rad/s)\n",
      "  --fmapmag=<image>      : fieldmap magnitude image - wholehead extracted\n",
      "  --fmapmagbrain=<image> : fieldmap magnitude image - brain extracted\n",
      "  --gdc=<image>          : Gradient-distortion corection warpfield\n",
      "  --wmseg=<image>        : white matter segmentation of T1 image\n",
      "  --echospacing=<val>    : Effective EPI echo spacing (sometimes called dwell time) - in seconds\n",
      "  --pedir=<dir>          : phase encoding direction, dir = x/y/z/-x/-y/-z\n",
      "  --weight=<image>       : weighting image (in T1 space)\n",
      "  --nofmapreg            : do not perform registration of fmap to T1 (use if fmap already registered) \n",
      "  --noclean              : do not clean up intermediate files\n",
      "  -v                     : verbose output\n",
      "  -h                     : display this help message\n",
      " \n",
      "e.g.:  epi_reg --epi=example_func --t1=struct --t1brain=struct_brain --out=epi2struct --fmap=fmap_rads --fmapmag=fmap_mag --fmapmagbrain=fmap_mag_brain --echospacing=0.0005 --pedir=-y\n",
      " \n",
      "Note that if parallel acceleration is used in the EPI acquisition then the *effective* echo spacing is the actual echo spacing between acquired lines in k-space divided by the acceleration factor.\n",
      " \n"
     ]
    },
    {
     "data": {
      "text/plain": [
       "CompletedProcess(args=['epi_reg'], returncode=1)"
      ]
     },
     "execution_count": 45,
     "metadata": {},
     "output_type": "execute_result"
    }
   ],
   "source": [
    "subprocess.run(['epi_reg'])"
   ]
  },
  {
   "cell_type": "code",
   "execution_count": 48,
   "id": "7992155d-9af3-4e9d-ac4c-edc03392bd5f",
   "metadata": {},
   "outputs": [
    {
     "name": "stdout",
     "output_type": "stream",
     "text": [
      "|ds000171/\n",
      "|--- CHANGES\n",
      "|--- README\n",
      "|--- dataset_description.json\n",
      "|--- participants.tsv\n",
      "|--- derivatives/\n",
      "|------ preprocessed_data/\n",
      "|--------- sub-control01/\n",
      "|------------ anat/\n",
      "|--------------- MNI152_T1_2mm_brain_mask_dil1.nii.gz\n",
      "|--------------- MNI_to_T1_nonlin_field.nii.gz\n",
      "|--------------- T1.nii.gz\n",
      "|--------------- T12std_skullcon.mat\n",
      "|--------------- T1_biascorr.nii.gz\n",
      "|--------------- T1_biascorr_bet_skull.nii.gz\n",
      "|--------------- T1_biascorr_brain.nii.gz\n",
      "|--------------- T1_biascorr_brain_mask.nii.gz\n",
      "|--------------- T1_fast_bias.nii.gz\n",
      "|--------------- T1_fast_mixeltype.nii.gz\n",
      "|--------------- T1_fast_pve_0.nii.gz\n",
      "|--------------- T1_fast_pve_1.nii.gz\n",
      "|--------------- T1_fast_pve_2.nii.gz\n",
      "|--------------- T1_fast_pveseg.nii.gz\n",
      "|--------------- T1_fast_restore.nii.gz\n",
      "|--------------- T1_fast_seg.nii.gz\n",
      "|--------------- T1_fullfov.nii.gz\n",
      "|--------------- T1_nonroi2roi.mat\n",
      "|--------------- T1_orig.nii.gz\n",
      "|--------------- T1_orig2roi.mat\n",
      "|--------------- T1_orig2std.mat\n",
      "|--------------- T1_roi.log\n",
      "|--------------- T1_roi2nonroi.mat\n",
      "|--------------- T1_roi2orig.mat\n",
      "|--------------- T1_std2orig.mat\n",
      "|--------------- T1_to_MNI_lin.mat\n",
      "|--------------- T1_to_MNI_lin.nii.gz\n",
      "|--------------- T1_to_MNI_nonlin.nii.gz\n",
      "|--------------- T1_to_MNI_nonlin.txt\n",
      "|--------------- T1_to_MNI_nonlin_coeff.nii.gz\n",
      "|--------------- T1_to_MNI_nonlin_field.nii.gz\n",
      "|--------------- T1_to_MNI_nonlin_jac.nii.gz\n",
      "|--------------- T1_vols.txt\n",
      "|--------------- lesionmask.nii.gz\n",
      "|--------------- lesionmaskinv.nii.gz\n",
      "|--------------- log.txt\n",
      "|--------------- sub-control01_T1w.nii.gz\n",
      "|--------------- sub-control01_T1w_fast_mixeltype.nii.gz\n",
      "|--------------- sub-control01_T1w_fast_pve_0.nii.gz\n",
      "|--------------- sub-control01_T1w_fast_pve_1.nii.gz\n",
      "|--------------- sub-control01_T1w_fast_pve_2.nii.gz\n",
      "|--------------- sub-control01_T1w_fast_pveseg.nii.gz\n",
      "|--------------- sub-control01_T1w_fast_seg.nii.gz\n",
      "|--------------- sub-control01_T1w_mask.nii.gz\n",
      "|--------------- sub-control01_T1w_mni.nii.gz\n",
      "|--------------- sub-control01_T1w_mni_SyN.nii.gz\n",
      "|--------------- sub-control01_T1w_mni_leastsq.nii.gz\n",
      "|--------------- sub-control01_T1w_mni_normcorr.nii.gz\n",
      "|------------ fmap/\n",
      "|------------ func/\n",
      "|--------------- sub-control01_task-music_run-1_bold_bbr_fast_wmedge.nii.gz\n",
      "|--------------- sub-control01_task-music_run-1_bold_bbr_fast_wmseg.nii.gz\n",
      "|--------------- sub-control01_task-music_run-1_bold_moco.nii.gz\n",
      "|--------------- sub-control01_task-music_run-1_bold_moco.par\n",
      "|--------------- sub-control01_task-music_run-1_bold_moco.mat/\n",
      "|--- sub-control01/\n",
      "|------ anat/\n",
      "|--------- sub-control01_T1w.nii.gz\n",
      "|------ func/\n",
      "|--------- sub-control01_task-music_run-1_bold.nii.gz\n",
      "|--------- sub-control01_task-music_run-1_events.tsv\n",
      "|--------- sub-control01_task-music_run-2_bold.nii.gz\n",
      "|--------- sub-control01_task-music_run-2_events.tsv\n",
      "|--------- sub-control01_task-music_run-3_bold.nii.gz\n",
      "|--------- sub-control01_task-music_run-3_events.tsv\n",
      "|--------- sub-control01_task-nonmusic_run-4_bold.nii.gz\n",
      "|--------- sub-control01_task-nonmusic_run-4_events.tsv\n",
      "|--------- sub-control01_task-nonmusic_run-5_bold.nii.gz\n",
      "|--------- sub-control01_task-nonmusic_run-5_events.tsv\n"
     ]
    }
   ],
   "source": [
    "print_dir_tree(bids_root, max_depth=5)"
   ]
  },
  {
   "cell_type": "code",
   "execution_count": 49,
   "id": "b098b111-3e2f-4dc8-bfb8-ce07c4249b99",
   "metadata": {},
   "outputs": [
    {
     "name": "stdout",
     "output_type": "stream",
     "text": [
      "Running FAST segmentation\n",
      "FLIRT pre-alignment\n",
      "Running BBR\n",
      "0.311916 0.999201 -0.039747 -0.004216 0.000000 0.039793 0.999142 0.011458 0.000000 0.003757 -0.011617 0.999925 0.000000 -5.459976 9.761198 -1.063915 1.000000 \n"
     ]
    }
   ],
   "source": [
    "from fsl.wrappers import epi_reg\n",
    "\n",
    "#################\n",
    "# Solution\n",
    "# We use the motion corrected EPI \n",
    "##################\n",
    "# We use the motion corrected EPI\n",
    "epi_target = op.join(preproc_root, 'sub-control01', 'func', 'sub-control01_task-music_run-1_bold_moco')\n",
    "whole_t1 = op.join(bids_root, 'sub-control01', 'anat', 'sub-control01_T1w')\n",
    "skull_stripped_t1 = op.join(preproc_root, 'sub-control01', 'anat', 'sub-control01_T1w')\n",
    "output_path = op.join(preproc_root, 'sub-control01', 'func', 'sub-control01_task-music_run-1_bold_bbr')\n",
    "ref_vol_name =  op.join(preproc_root, 'sub-control01', 'func', 'sub-control01_task-music_run-1_bold_moco_vol_middle')\n",
    "\n",
    "use_single_vol = True\n",
    "\n",
    "if use_single_vol:\n",
    "    # Extract the middle volume with fslroi as we've seen before :)\n",
    "    fslroi(epi_target, ref_vol_name, str(52), str(1))\n",
    "    # Call epi_reg\n",
    "    subprocess.run(['epi_reg','--epi={}'.format(ref_vol_name), '--t1={}'.format(whole_t1), '--t1brain={}'.format(skull_stripped_t1), '--out={}'.format(output_path)])\n",
    "else:\n",
    "    subprocess.run(['epi_reg','--epi={}'.format(epi_target), '--t1={}'.format(whole_t1), '--t1brain={}'.format(skull_stripped_t1), '--out={}'.format(output_path)])"
   ]
  },
  {
   "cell_type": "code",
   "execution_count": 50,
   "id": "694319a9-e1b3-4246-bb07-de53eb5f02f9",
   "metadata": {},
   "outputs": [
    {
     "name": "stdout",
     "output_type": "stream",
     "text": [
      "FLIRT pre-alignment\n",
      "Running BBR\n",
      "0.298373 0.999223 -0.039116 -0.004812 0.000000 0.039166 0.999174 0.010820 0.000000 0.004384 -0.011000 0.999930 0.000000 -5.397363 9.584313 -0.845888 1.000000 \n"
     ]
    },
    {
     "data": {
      "text/plain": [
       "CompletedProcess(args=['epi_reg', '--epi=/home/jovyan/Data/dataset/ds000171/derivatives/preprocessed_data/sub-control01/func/sub-control01_task-music_run-1_bold_moco_vol_middle', '--t1=/home/jovyan/Data/dataset/ds000171/sub-control01/anat/sub-control01_T1w', '--t1brain=/home/jovyan/Data/dataset/ds000171/derivatives/preprocessed_data/sub-control01/anat/sub-control01_T1w', '--out=/home/jovyan/Data/dataset/ds000171/derivatives/preprocessed_data/sub-control01/func/sub-control01_task-music_run-1_bold_bbr', '--wmseg=/home/jovyan/Data/dataset/ds000171/derivatives/preprocessed_data/sub-control01/anat/sub-control01_T1w_fast_pve_2.nii.gz'], returncode=0)"
      ]
     },
     "execution_count": 50,
     "metadata": {},
     "output_type": "execute_result"
    }
   ],
   "source": [
    "###############\n",
    "# Solution\n",
    "# White matter corresponds to pve_2.\n",
    "##############\n",
    "\n",
    "white_matter_segmentation = op.join(preproc_root, 'sub-control01', 'anat', 'sub-control01_T1w_fast_pve_2.nii.gz') # We provide the white matter segmentation\n",
    "\n",
    "subprocess.run(['epi_reg','--epi={}'.format(ref_vol_name), '--t1={}'.format(whole_t1), '--t1brain={}'.format(skull_stripped_t1), \n",
    "                '--out={}'.format(output_path),\n",
    "               '--wmseg={}'.format(white_matter_segmentation)])"
   ]
  },
  {
   "cell_type": "code",
   "execution_count": 51,
   "id": "afe1db6d-7005-4b0c-9dd3-d1782fbb8b40",
   "metadata": {},
   "outputs": [],
   "source": [
    "fsleyesDisplay.resetOverlays()\n",
    "fsleyesDisplay.load(skull_stripped_t1)\n",
    "fsleyesDisplay.load(output_path)"
   ]
  },
  {
   "cell_type": "code",
   "execution_count": 52,
   "id": "dcfa03f8-b5a8-486f-b908-53d57997a535",
   "metadata": {},
   "outputs": [],
   "source": [
    "def cleanup_epi_reg(path_to_clean):\n",
    "    patterns = ['*_fast_*', '*_fieldmap*']\n",
    "    for p in patterns:\n",
    "        files = glob.glob(op.join(path_to_clean, p))\n",
    "        for f in files:\n",
    "            os.remove(f)"
   ]
  },
  {
   "cell_type": "code",
   "execution_count": 53,
   "id": "1041989c-722b-4e18-9ceb-c463395d99f9",
   "metadata": {},
   "outputs": [],
   "source": [
    "cleanup_epi_reg(op.join(preproc_root, 'sub-control01', 'func'))"
   ]
  },
  {
   "cell_type": "code",
   "execution_count": 54,
   "id": "39f71521-0a88-4607-ab49-c4c09ecf8c66",
   "metadata": {},
   "outputs": [
    {
     "name": "stdout",
     "output_type": "stream",
     "text": [
      "|ds000171/\n",
      "|--- CHANGES\n",
      "|--- README\n",
      "|--- dataset_description.json\n",
      "|--- participants.tsv\n",
      "|--- derivatives/\n",
      "|------ preprocessed_data/\n",
      "|--------- sub-control01/\n",
      "|------------ anat/\n",
      "|--------------- MNI152_T1_2mm_brain_mask_dil1.nii.gz\n",
      "|--------------- MNI_to_T1_nonlin_field.nii.gz\n",
      "|--------------- T1.nii.gz\n",
      "|--------------- T12std_skullcon.mat\n",
      "|--------------- T1_biascorr.nii.gz\n",
      "|--------------- T1_biascorr_bet_skull.nii.gz\n",
      "|--------------- T1_biascorr_brain.nii.gz\n",
      "|--------------- T1_biascorr_brain_mask.nii.gz\n",
      "|--------------- T1_fast_bias.nii.gz\n",
      "|--------------- T1_fast_mixeltype.nii.gz\n",
      "|--------------- T1_fast_pve_0.nii.gz\n",
      "|--------------- T1_fast_pve_1.nii.gz\n",
      "|--------------- T1_fast_pve_2.nii.gz\n",
      "|--------------- T1_fast_pveseg.nii.gz\n",
      "|--------------- T1_fast_restore.nii.gz\n",
      "|--------------- T1_fast_seg.nii.gz\n",
      "|--------------- T1_fullfov.nii.gz\n",
      "|--------------- T1_nonroi2roi.mat\n",
      "|--------------- T1_orig.nii.gz\n",
      "|--------------- T1_orig2roi.mat\n",
      "|--------------- T1_orig2std.mat\n",
      "|--------------- T1_roi.log\n",
      "|--------------- T1_roi2nonroi.mat\n",
      "|--------------- T1_roi2orig.mat\n",
      "|--------------- T1_std2orig.mat\n",
      "|--------------- T1_to_MNI_lin.mat\n",
      "|--------------- T1_to_MNI_lin.nii.gz\n",
      "|--------------- T1_to_MNI_nonlin.nii.gz\n",
      "|--------------- T1_to_MNI_nonlin.txt\n",
      "|--------------- T1_to_MNI_nonlin_coeff.nii.gz\n",
      "|--------------- T1_to_MNI_nonlin_field.nii.gz\n",
      "|--------------- T1_to_MNI_nonlin_jac.nii.gz\n",
      "|--------------- T1_vols.txt\n",
      "|--------------- lesionmask.nii.gz\n",
      "|--------------- lesionmaskinv.nii.gz\n",
      "|--------------- log.txt\n",
      "|--------------- sub-control01_T1w.nii.gz\n",
      "|--------------- sub-control01_T1w_fast_mixeltype.nii.gz\n",
      "|--------------- sub-control01_T1w_fast_pve_0.nii.gz\n",
      "|--------------- sub-control01_T1w_fast_pve_1.nii.gz\n",
      "|--------------- sub-control01_T1w_fast_pve_2.nii.gz\n",
      "|--------------- sub-control01_T1w_fast_pveseg.nii.gz\n",
      "|--------------- sub-control01_T1w_fast_seg.nii.gz\n",
      "|--------------- sub-control01_T1w_mask.nii.gz\n",
      "|--------------- sub-control01_T1w_mni.nii.gz\n",
      "|--------------- sub-control01_T1w_mni_SyN.nii.gz\n",
      "|--------------- sub-control01_T1w_mni_leastsq.nii.gz\n",
      "|--------------- sub-control01_T1w_mni_normcorr.nii.gz\n",
      "|------------ fmap/\n",
      "|------------ func/\n",
      "|--------------- sub-control01_task-music_run-1_bold_bbr.mat\n",
      "|--------------- sub-control01_task-music_run-1_bold_bbr.nii.gz\n",
      "|--------------- sub-control01_task-music_run-1_bold_bbr_init.mat\n",
      "|--------------- sub-control01_task-music_run-1_bold_moco.nii.gz\n",
      "|--------------- sub-control01_task-music_run-1_bold_moco.par\n",
      "|--------------- sub-control01_task-music_run-1_bold_moco_vol_middle.nii.gz\n",
      "|--------------- sub-control01_task-music_run-1_bold_moco.mat/\n",
      "|--- sub-control01/\n",
      "|------ anat/\n",
      "|--------- sub-control01_T1w.nii.gz\n",
      "|------ func/\n",
      "|--------- sub-control01_task-music_run-1_bold.nii.gz\n",
      "|--------- sub-control01_task-music_run-1_events.tsv\n",
      "|--------- sub-control01_task-music_run-2_bold.nii.gz\n",
      "|--------- sub-control01_task-music_run-2_events.tsv\n",
      "|--------- sub-control01_task-music_run-3_bold.nii.gz\n",
      "|--------- sub-control01_task-music_run-3_events.tsv\n",
      "|--------- sub-control01_task-nonmusic_run-4_bold.nii.gz\n",
      "|--------- sub-control01_task-nonmusic_run-4_events.tsv\n",
      "|--------- sub-control01_task-nonmusic_run-5_bold.nii.gz\n",
      "|--------- sub-control01_task-nonmusic_run-5_events.tsv\n"
     ]
    }
   ],
   "source": [
    "print_dir_tree(bids_root, max_depth=5)"
   ]
  },
  {
   "cell_type": "code",
   "execution_count": 55,
   "id": "3e789620-cdea-4f65-a48a-a8de2749cb4e",
   "metadata": {},
   "outputs": [
    {
     "data": {
      "text/plain": [
       "CompletedProcess(args=['fslmaths', '/home/jovyan/Data/dataset/ds000171/derivatives/preprocessed_data/sub-control01/func/sub-control01_task-music_run-1_bold_bbr', '-s', '2.547987090198743', '/home/jovyan/Data/dataset/ds000171/derivatives/preprocessed_data/sub-control01/func/sub-control01_task-music_run-1_bold_bbr_smoothed-6mm'], returncode=0)"
      ]
     },
     "execution_count": 55,
     "metadata": {},
     "output_type": "execute_result"
    }
   ],
   "source": [
    "cmd = 'fslmaths {} -s {} {}_smoothed-6mm'.format(output_path, 6/2.3548, output_path)\n",
    "subprocess.run(['fslmaths',output_path, '-s', str(6/2.3548), '{}_smoothed-6mm'.format(output_path)])"
   ]
  },
  {
   "cell_type": "code",
   "execution_count": 56,
   "id": "ff2ea2ba-6f58-4769-8c02-3d2c40dd3ed7",
   "metadata": {},
   "outputs": [],
   "source": [
    "fsleyesDisplay.load(output_path + '_smoothed-6mm')"
   ]
  },
  {
   "cell_type": "markdown",
   "id": "94d52fda-59b6-4fea-af2f-d95ed2ae5565",
   "metadata": {},
   "source": [
    "## 5. Diffusion data and tractography generation"
   ]
  },
  {
   "cell_type": "code",
   "execution_count": 57,
   "id": "b0f210b8-3e7a-4874-b6d6-b857a1437355",
   "metadata": {},
   "outputs": [],
   "source": [
    "from dipy.core.gradients import gradient_table\n",
    "from dipy.data import get_fnames\n",
    "from dipy.io.gradients import read_bvals_bvecs\n",
    "from dipy.io.image import load_nifti, load_nifti_data\n",
    "\n",
    "hardi_fname, hardi_bval_fname, hardi_bvec_fname = get_fnames('stanford_hardi')\n",
    "hardi_root_path = op.split(hardi_fname)[0]\n",
    "label_fname = get_fnames('stanford_labels')\n",
    "\n",
    "data, affine, hardi_img = load_nifti(hardi_fname, return_img=True)\n",
    "labels = load_nifti_data(label_fname)\n",
    "bvals, bvecs = read_bvals_bvecs(hardi_bval_fname, hardi_bvec_fname)\n",
    "gtab = gradient_table(bvals, bvecs)"
   ]
  },
  {
   "cell_type": "code",
   "execution_count": 58,
   "id": "cc3e934d-a876-44bb-b3f5-28a304aea29b",
   "metadata": {},
   "outputs": [
    {
     "name": "stdout",
     "output_type": "stream",
     "text": [
      "data.shape:  (81, 106, 76, 160)\n",
      "affine.shape:  (4, 4)\n",
      "hardi_img.shape:  (81, 106, 76, 160)\n",
      "labels.shape:  (81, 106, 76)\n",
      "bvals.shape:  (160,)\n",
      "bvecs.shape:  (160, 3)\n"
     ]
    }
   ],
   "source": [
    "print('data.shape: ',data.shape)\n",
    "print('affine.shape: ',affine.shape)\n",
    "print('hardi_img.shape: ',hardi_img.shape)\n",
    "\n",
    "print('labels.shape: ',labels.shape)\n",
    "print('bvals.shape: ',bvals.shape)\n",
    "print('bvecs.shape: ',bvecs.shape)"
   ]
  },
  {
   "cell_type": "code",
   "execution_count": 59,
   "id": "d8ef4fa8-cb24-4ca6-a895-20bc765e302c",
   "metadata": {},
   "outputs": [
    {
     "name": "stdout",
     "output_type": "stream",
     "text": [
      "|stanford_hardi/\n",
      "|--- HARDI150.bval\n",
      "|--- HARDI150.bvec\n",
      "|--- HARDI150.nii.gz\n",
      "|--- aparc-reduced.nii.gz\n",
      "|--- label_info.txt\n"
     ]
    }
   ],
   "source": [
    "import os.path as op\n",
    "from mne_bids import BIDSPath, read_raw_bids, print_dir_tree, make_report\n",
    "\n",
    "print_dir_tree(hardi_root_path, max_depth=5)"
   ]
  },
  {
   "cell_type": "code",
   "execution_count": 60,
   "id": "dc32515c-df82-40e7-8632-3a5e0d3ad602",
   "metadata": {},
   "outputs": [],
   "source": [
    "fsleyesDisplay.resetOverlays()\n",
    "fsleyesDisplay.load(label_fname)\n",
    "fsleyesDisplay.displayCtx.getOpts(fsleyesDisplay.overlayList[0]).cmap = 'brain_colours_spectrum'"
   ]
  },
  {
   "cell_type": "code",
   "execution_count": 61,
   "id": "38d98146-0948-4b5c-9233-23e176a65fa9",
   "metadata": {},
   "outputs": [],
   "source": [
    "white_matter_value = 1 # Fill with the value you read in FSLeyes for white matter!"
   ]
  },
  {
   "cell_type": "code",
   "execution_count": 62,
   "id": "09390fc5-1e03-44c8-a51e-364e06c933bc",
   "metadata": {},
   "outputs": [],
   "source": [
    "##################\n",
    "# Solution\n",
    "# We show the fslmaths approach. Simply set upper and lower threshold to the white matter value in the parcellation.\n",
    "##################\n",
    "output_name = op.join(hardi_root_path,'extracted_wm')\n",
    "subprocess.run(['fslmaths', label_fname, '-thr', str(white_matter_value), '-uthr', str(white_matter_value), '-bin', output_name])\n",
    "fsleyesDisplay.load(output_name)"
   ]
  },
  {
   "cell_type": "code",
   "execution_count": 63,
   "id": "be698c69-5fb7-40d0-b429-c0098950957e",
   "metadata": {},
   "outputs": [],
   "source": [
    "##################\n",
    "# Solution\n",
    "# We show the fslmaths approach.\n",
    "##################\n",
    "\n",
    "lower_threshold = 1 # Select the lower bound to include both white matter and corpus callosum slice\n",
    "upper_threshold = 2 # Select the upper bound to include both white matter and corpus callosum slice\n",
    "output_name = op.join(hardi_root_path,'extracted_wm_complete')\n",
    "\n",
    "subprocess.run(['fslmaths', label_fname, '-thr', str(lower_threshold), '-uthr', str(upper_threshold), '-bin', output_name])\n",
    "fsleyesDisplay.load(output_name)"
   ]
  },
  {
   "cell_type": "code",
   "execution_count": 64,
   "id": "abafe371-2d66-4636-9f3d-6baff98c59bc",
   "metadata": {},
   "outputs": [],
   "source": [
    "#######\n",
    "# Solution\n",
    "# Remark we create an OR mask between the corpus callosum and white matter values.\n",
    "# The total mask is simply set from this parcellation.\n",
    "#######\n",
    "corpus_callosum_slice_value = 2 # Fill with your value!\n",
    "white_matter_value = 1 # Fill with your value !\n",
    "\n",
    "total_white_matter = (labels == corpus_callosum_slice_value) | (labels == white_matter_value)"
   ]
  },
  {
   "cell_type": "code",
   "execution_count": 65,
   "id": "6dbe84e6-9479-44cd-9e84-48de96e7b029",
   "metadata": {},
   "outputs": [],
   "source": [
    "from dipy.reconst.csdeconv import auto_response_ssst\n",
    "from dipy.reconst.shm import CsaOdfModel\n",
    "from dipy.data import default_sphere\n",
    "from dipy.direction import peaks_from_model\n",
    "\n",
    "# Single fiber response function: the measured signal of a single fiber\n",
    "# sume: regions where there are single coherent fiber populations\n",
    "# auto_response_ssst: calculate FA for a ROI of radii equal to roi_radii in the center of the volume\n",
    "# and return the response function estimated in that region for the voxels with FA higher than 0.7\n",
    "response, ratio = auto_response_ssst(gtab, data, roi_radii=10, fa_thr=0.7)\n",
    "\n",
    "# Instantiate the Constant Solid Angle model\n",
    "csa_model = CsaOdfModel(gtab, sh_order_max=6)"
   ]
  },
  {
   "cell_type": "code",
   "execution_count": 66,
   "id": "2d28c6e9-4d82-4523-98aa-1b72e91d60ce",
   "metadata": {},
   "outputs": [],
   "source": [
    "csa_peaks = peaks_from_model(csa_model, data, default_sphere,\n",
    "                             relative_peak_threshold=.8,\n",
    "                             min_separation_angle=45,\n",
    "                             mask=total_white_matter, npeaks=5)"
   ]
  },
  {
   "cell_type": "code",
   "execution_count": 67,
   "id": "794a5c5a-915b-4649-a3a5-2f6d974e2c32",
   "metadata": {},
   "outputs": [
    {
     "data": {
      "text/plain": [
       "(81, 106, 76, 5)"
      ]
     },
     "execution_count": 67,
     "metadata": {},
     "output_type": "execute_result"
    }
   ],
   "source": [
    "csa_peaks.peak_values.shape"
   ]
  },
  {
   "cell_type": "code",
   "execution_count": 68,
   "id": "8ee8af0a-5e41-442f-95e6-935a070d494f",
   "metadata": {},
   "outputs": [],
   "source": [
    "from fury import actor, window, ui\n",
    "from ipyvtklink.viewer import ViewInteractiveWidget"
   ]
  },
  {
   "cell_type": "code",
   "execution_count": 69,
   "id": "85ed34b4-5dc3-4446-ba60-ebb46354ece2",
   "metadata": {},
   "outputs": [
    {
     "name": "stderr",
     "output_type": "stream",
     "text": [
      "/opt/conda/lib/python3.11/site-packages/IPython/core/interactiveshell.py:3526: UserWarning: We'll no longer accept the way you call the __init__ function in future versions of FURY.\n",
      "\n",
      "Here's how to call the Function __init__: __init__(self_value, scene='value', title='value', size='value', png_magnify='value', reset_camera='value', order_transparent='value', interactor_style='value', stereo='value', multi_samples='value', max_peels='value', occlusion_ratio='value')\n",
      "\n",
      "  exec(code_obj, self.user_global_ns, self.user_ns)\n"
     ]
    },
    {
     "data": {
      "application/vnd.jupyter.widget-view+json": {
       "model_id": "57215ec2ec9a4387b973251c24de49fd",
       "version_major": 2,
       "version_minor": 0
      },
      "text/plain": [
       "ViewInteractiveWidget(height=836, layout=Layout(height='auto', width='100%'), width=900)"
      ]
     },
     "metadata": {},
     "output_type": "display_data"
    }
   ],
   "source": [
    "scene = window.Scene()\n",
    "slice_actor = actor.peak_slicer(csa_peaks.peak_dirs,\n",
    "                            peaks_values=csa_peaks.peak_values,\n",
    "                            affine=affine,mask=total_white_matter,)\n",
    "scene.add(slice_actor)\n",
    "\n",
    "showm = window.ShowManager(scene, size=(900,900), reset_camera=False)\n",
    "showm.initialize()\n",
    "ViewInteractiveWidget(scene.GetRenderWindow())"
   ]
  },
  {
   "cell_type": "code",
   "execution_count": 70,
   "id": "9f36a04a-cd9f-429a-9f3e-5f2b7f86ddca",
   "metadata": {},
   "outputs": [],
   "source": [
    "from dipy.tracking.stopping_criterion import ThresholdStoppingCriterion\n",
    "\n",
    "stopping_criterion = ThresholdStoppingCriterion(csa_peaks.gfa, .25)"
   ]
  },
  {
   "cell_type": "code",
   "execution_count": 71,
   "id": "3a184530-bbc9-4c46-b4ce-9e1f3c2e9eac",
   "metadata": {},
   "outputs": [
    {
     "data": {
      "image/png": "[encoded data removed]",
      "text/plain": [
       "<Figure size 640x480 with 2 Axes>"
      ]
     },
     "metadata": {},
     "output_type": "display_data"
    }
   ],
   "source": [
    "%matplotlib inline\n",
    "import matplotlib.pyplot as plt\n",
    "\n",
    "sli = csa_peaks.gfa.shape[2] // 2\n",
    "plt.figure('GFA')\n",
    "plt.subplot(1, 2, 1).set_axis_off()\n",
    "plt.imshow(csa_peaks.gfa[:, :, sli].T, cmap='gray', origin='lower')\n",
    "\n",
    "plt.subplot(1, 2, 2).set_axis_off()\n",
    "plt.imshow((csa_peaks.gfa[:, :, sli] > 0.25).T, cmap='gray', origin='lower')\n",
    "\n",
    "plt.savefig('gfa_tracking_mask.png')"
   ]
  },
  {
   "cell_type": "code",
   "execution_count": 72,
   "id": "3addd69b-2e1a-4197-b496-da94951cd5f7",
   "metadata": {},
   "outputs": [],
   "source": [
    "from dipy.tracking import utils\n",
    "\n",
    "seed_mask = labels == 2 # Your code here to extract only the place of interest! \n",
    "seeds = utils.seeds_from_mask(seed_mask, affine, density=[2, 2, 2])"
   ]
  },
  {
   "cell_type": "code",
   "execution_count": 73,
   "id": "38d79b89-ed4c-4c94-b213-0b4b4143d54d",
   "metadata": {},
   "outputs": [],
   "source": [
    "from dipy.tracking.local_tracking import LocalTracking\n",
    "from dipy.tracking.streamline import Streamlines\n",
    "\n",
    "# Initialization of LocalTracking. The computation happens in the next step.\n",
    "streamlines_generator = LocalTracking(csa_peaks, stopping_criterion, seeds,\n",
    "                                      affine=affine, step_size=.5)\n",
    "# Generate streamlines object\n",
    "streamlines_t = Streamlines(streamlines_generator)"
   ]
  },
  {
   "cell_type": "code",
   "execution_count": 74,
   "id": "9d036fd7-93a1-484c-84ec-b452495c6151",
   "metadata": {},
   "outputs": [
    {
     "data": {
      "text/plain": [
       "ArraySequence([array([[ -4.5, -44.5,   7.5]]), array([[ -4.5, -44.5,   7.5]]), array([[ -4.5, -44.5,   7.5]]), ..., array([[-0.5, 32.5, 12.5]]), array([[ 0.5, 32.5, 12.5]]), array([[ 0.5, 32.5, 12.5]])])"
      ]
     },
     "execution_count": 74,
     "metadata": {},
     "output_type": "execute_result"
    }
   ],
   "source": [
    "streamlines_t"
   ]
  },
  {
   "cell_type": "code",
   "execution_count": 75,
   "id": "a0d7530b-eb52-43da-83d1-66fb58ef895b",
   "metadata": {},
   "outputs": [
    {
     "data": {
      "application/vnd.jupyter.widget-view+json": {
       "model_id": "c6f7f6215f2b4735a0f5aa3dc6400147",
       "version_major": 2,
       "version_minor": 0
      },
      "text/plain": [
       "ViewInteractiveWidget(height=836, layout=Layout(height='auto', width='100%'), width=900)"
      ]
     },
     "metadata": {},
     "output_type": "display_data"
    }
   ],
   "source": [
    "from dipy.viz import colormap\n",
    "\n",
    "# Prepare the display objects.\n",
    "color = colormap.line_colors(streamlines_t)\n",
    "\n",
    "streamlines_actor = actor.line(streamlines_t,\n",
    "                               colors=colormap.line_colors(streamlines_t))\n",
    "\n",
    "# Create the 3D display.\n",
    "scene = window.Scene()\n",
    "scene.add(streamlines_actor)\n",
    "\n",
    "showm = window.ShowManager(scene, size=(900,900), reset_camera=False)\n",
    "showm.initialize()\n",
    "ViewInteractiveWidget(scene.GetRenderWindow())\n",
    "\n",
    "# Save still images for this static example. Or for interactivity use\n",
    "#window.record(scene, out_path='tractogram_EuDX.png', size=(800, 800))\n",
    "#if interactive:\n",
    "#    window.show(scene)"
   ]
  },
  {
   "cell_type": "code",
   "execution_count": 76,
   "id": "632e5cd1-ba14-40c6-94f2-655e2de5a5ef",
   "metadata": {},
   "outputs": [],
   "source": [
    "from dipy.io.stateful_tractogram import Space, StatefulTractogram\n",
    "from dipy.io.streamline import save_tractogram, save_trk\n",
    "\n",
    "# This is for the cc slice tractogram\n",
    "sft = StatefulTractogram(streamlines_t, hardi_img, Space.RASMM)\n",
    "save_trk(sft, \"tractogram_EuDX.trk\", streamlines_t)\n"
   ]
  },
  {
   "cell_type": "code",
   "execution_count": null,
   "id": "671edc11-5fd3-4713-bffc-b1f7eedaaf72",
   "metadata": {},
   "outputs": [],
   "source": []
  }
 ],
 "metadata": {
  "kernelspec": {
   "display_name": "Python 3 (ipykernel)",
   "language": "python",
   "name": "python3"
  },
  "language_info": {
   "codemirror_mode": {
    "name": "ipython",
    "version": 3
   },
   "file_extension": ".py",
   "mimetype": "text/x-python",
   "name": "python",
   "nbconvert_exporter": "python",
   "pygments_lexer": "ipython3",
   "version": "3.11.6"
  }
 },
 "nbformat": 4,
 "nbformat_minor": 5
}
