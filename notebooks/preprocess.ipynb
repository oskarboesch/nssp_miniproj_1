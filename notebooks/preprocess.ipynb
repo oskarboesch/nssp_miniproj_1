{
 "cells": [
  {
   "cell_type": "code",
   "execution_count": null,
   "metadata": {},
   "outputs": [
    {
     "name": "stdout",
     "output_type": "stream",
     "text": [
      "241103-16:25:37,410 nipype.interface INFO:\n",
      "\t stderr 2024-11-03T16:25:37.410036:Warning: An input intended to be a single 3D volume has multiple timepoints. Input will be truncated to first volume, but this functionality is deprecated and will be removed in a future release.\n",
      "241103-16:25:40,857 nipype.interface INFO:\n",
      "\t stderr 2024-11-03T16:25:40.857005:Warning: An input intended to be a single 3D volume has multiple timepoints. Input will be truncated to first volume, but this functionality is deprecated and will be removed in a future release.\n"
     ]
    }
   ],
   "source": [
    "import os\n",
    "import sys\n",
    "import nibabel as nib\n",
    "from nilearn.image import concat_imgs, smooth_img\n",
    "from nipype.interfaces.fsl import BET, MCFLIRT, SliceTimer\n",
    "\n",
    "sys.path.append(os.path.join(os.getcwd(), '..', 'src', 'preprocess'))\n",
    "from coregistrate import coregister_fmri_to_mni\n",
    "\n",
    "\n",
    "def preprocess_data():\n",
    "   # Define paths relative to the src folder\n",
    "    base_dir = os.path.join(\"..\", \"data\", \"raw\", \"sub-control01\")  # Navigate up one directory and then into data\n",
    "    preprocess_dir = os.path.join(\"..\", \"data\", \"preprocessed\", \"sub-control01\")  # Preprocess folder\n",
    "    preprocess_anat_dir = os.path.join(preprocess_dir, \"anat\")  # Anatomical folder\n",
    "    preprocess_func_dir = os.path.join(preprocess_dir, \"func\")  # Functional folder\n",
    "    anat_path = os.path.join(base_dir, \"anat\", \"sub-control01_T1w.nii.gz\")\n",
    "    func_paths = [\n",
    "        os.path.join(base_dir, \"func\", \"sub-control01_task-music_run-1_bold.nii.gz\"),\n",
    "        os.path.join(base_dir, \"func\", \"sub-control01_task-music_run-2_bold.nii.gz\"),\n",
    "        os.path.join(base_dir, \"func\", \"sub-control01_task-music_run-3_bold.nii.gz\")\n",
    "    ]\n",
    "    # Create preprocess directory if it doesn't exist\n",
    "    if not os.path.exists(preprocess_dir):\n",
    "        os.makedirs(preprocess_dir)\n",
    "    if not os.path.exists(preprocess_anat_dir):\n",
    "        os.makedirs(preprocess_anat_dir)\n",
    "    if not os.path.exists(preprocess_func_dir):\n",
    "        os.makedirs(preprocess_func_dir)\n",
    "\n",
    "    # Perform skull stripping\n",
    "    bet = BET(in_file=anat_path, out_file=os.path.join(preprocess_anat_dir,\"brain_anat.nii.gz\"), mask=True)\n",
    "    bet.run()\n",
    "\n",
    "    # Standardize and save each functional run\n",
    "    standardized_func_paths = []\n",
    "    for func_path in func_paths:\n",
    "        img = nib.load(func_path)\n",
    "        img_standard = (img.get_fdata() - img.get_fdata().mean()) / img.get_fdata().std()\n",
    "        img_standard_nii = nib.Nifti1Image(img_standard, img.affine)\n",
    "        standardized_path = os.path.join(preprocess_func_dir, os.path.basename(func_path))\n",
    "        img_standard_nii.to_filename(standardized_path)\n",
    "        standardized_func_paths.append(standardized_path)\n",
    "\n",
    "    # Slice Timing Correction\n",
    "    slice_timing_corrected_paths = []\n",
    "    for func_path in standardized_func_paths:\n",
    "        slicetimer = SliceTimer(\n",
    "            in_file=func_path,\n",
    "            out_file=os.path.join(preprocess_func_dir, \"slicetimed_\" + os.path.basename(func_path)),\n",
    "            time_repetition=3,\n",
    "            slice_direction=1,  # 1 for ascending, 2 for descending\n",
    "            interleaved=True\n",
    "        )\n",
    "        slicetimer.run()\n",
    "        slice_timing_corrected_paths.append(slicetimer.inputs.out_file)\n",
    "\n",
    "    # Load and concatenate slice-timed functional images\n",
    "    func_imgs = [nib.load(func_path) for func_path in slice_timing_corrected_paths]\n",
    "    concat_img = concat_imgs(func_imgs)\n",
    "    concat_img_path = os.path.join(preprocess_func_dir, \"concatenated_func.nii.gz\")\n",
    "    concat_img.to_filename(concat_img_path)\n",
    "\n",
    "    # Motion Correction\n",
    "    mcflirt = MCFLIRT(in_file=concat_img_path, out_file=os.path.join(preprocess_func_dir, \"motion_corrected.nii.gz\"))\n",
    "    mcflirt.run()\n",
    "\n",
    "    # Smoothing\n",
    "    smoothed_img = smooth_img(os.path.join(preprocess_func_dir, \"motion_corrected.nii.gz\"), fwhm=5)\n",
    "    preproccessed_img_path = os.path.join(preprocess_func_dir, \"preprocessed_data.nii.gz\")\n",
    "    smoothed_img.to_filename(preproccessed_img_path)\n",
    "\n",
    "    # Coregistration to MNI space\n",
    "    coregistered_img = coregister_fmri_to_mni(preproccessed_img_path, output_dir=preprocess_func_dir)\n",
    "\n",
    "if __name__ == \"__main__\":\n",
    "    preprocess_data()"
   ]
  },
  {
   "cell_type": "code",
   "execution_count": null,
   "metadata": {},
   "outputs": [],
   "source": []
  }
 ],
 "metadata": {
  "kernelspec": {
   "display_name": "Python 3",
   "language": "python",
   "name": "python3"
  },
  "language_info": {
   "codemirror_mode": {
    "name": "ipython",
    "version": 3
   },
   "file_extension": ".py",
   "mimetype": "text/x-python",
   "name": "python",
   "nbconvert_exporter": "python",
   "pygments_lexer": "ipython3",
   "version": "3.12.2"
  }
 },
 "nbformat": 4,
 "nbformat_minor": 2
}
